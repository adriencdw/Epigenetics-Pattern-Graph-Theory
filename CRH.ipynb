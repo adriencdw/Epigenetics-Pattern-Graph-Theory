{
  "nbformat": 4,
  "nbformat_minor": 0,
  "metadata": {
    "colab": {
      "provenance": [],
      "collapsed_sections": [
        "5BvfTQ9YdkUl"
      ]
    },
    "kernelspec": {
      "name": "python3",
      "display_name": "Python 3"
    },
    "language_info": {
      "name": "python"
    }
  },
  "cells": [
    {
      "cell_type": "markdown",
      "source": [
        "#Dependencies"
      ],
      "metadata": {
        "id": "WL0Xl3SU0Jnh"
      }
    },
    {
      "cell_type": "code",
      "execution_count": null,
      "metadata": {
        "id": "KVVqnwqpSnxY",
        "colab": {
          "base_uri": "https://localhost:8080/"
        },
        "outputId": "97ff3c8b-afba-4bd8-bc81-a63517a02f7b"
      },
      "outputs": [
        {
          "output_type": "stream",
          "name": "stdout",
          "text": [
            "Requirement already satisfied: networkx in /usr/local/lib/python3.7/dist-packages (2.6.3)\n",
            "Collecting pyranges\n",
            "  Downloading pyranges-0.0.115.tar.gz (685 kB)\n",
            "\u001b[K     |████████████████████████████████| 685 kB 14.5 MB/s \n",
            "\u001b[?25hRequirement already satisfied: cython in /usr/local/lib/python3.7/dist-packages (from pyranges) (0.29.28)\n",
            "Requirement already satisfied: pandas in /usr/local/lib/python3.7/dist-packages (from pyranges) (1.3.5)\n",
            "Collecting ncls>=0.0.63\n",
            "  Downloading ncls-0.0.64.tar.gz (470 kB)\n",
            "\u001b[K     |████████████████████████████████| 470 kB 45.5 MB/s \n",
            "\u001b[?25hRequirement already satisfied: tabulate in /usr/local/lib/python3.7/dist-packages (from pyranges) (0.8.9)\n",
            "Collecting sorted_nearest>=0.0.33\n",
            "  Downloading sorted_nearest-0.0.33.tar.gz (1.2 MB)\n",
            "\u001b[K     |████████████████████████████████| 1.2 MB 38.3 MB/s \n",
            "\u001b[?25h  Installing build dependencies ... \u001b[?25l\u001b[?25hdone\n",
            "  Getting requirements to build wheel ... \u001b[?25l\u001b[?25hdone\n",
            "    Preparing wheel metadata ... \u001b[?25l\u001b[?25hdone\n",
            "Collecting pyrle\n",
            "  Downloading pyrle-0.0.34.tar.gz (400 kB)\n",
            "\u001b[K     |████████████████████████████████| 400 kB 64.1 MB/s \n",
            "\u001b[?25h  Installing build dependencies ... \u001b[?25l\u001b[?25hdone\n",
            "  Getting requirements to build wheel ... \u001b[?25l\u001b[?25hdone\n",
            "    Preparing wheel metadata ... \u001b[?25l\u001b[?25hdone\n",
            "Requirement already satisfied: natsort in /usr/local/lib/python3.7/dist-packages (from pyranges) (5.5.0)\n",
            "Requirement already satisfied: numpy in /usr/local/lib/python3.7/dist-packages (from ncls>=0.0.63->pyranges) (1.21.5)\n",
            "Requirement already satisfied: pytz>=2017.3 in /usr/local/lib/python3.7/dist-packages (from pandas->pyranges) (2018.9)\n",
            "Requirement already satisfied: python-dateutil>=2.7.3 in /usr/local/lib/python3.7/dist-packages (from pandas->pyranges) (2.8.2)\n",
            "Requirement already satisfied: six>=1.5 in /usr/local/lib/python3.7/dist-packages (from python-dateutil>=2.7.3->pandas->pyranges) (1.15.0)\n",
            "Building wheels for collected packages: pyranges, ncls, sorted-nearest, pyrle\n",
            "  Building wheel for pyranges (setup.py) ... \u001b[?25l\u001b[?25hdone\n",
            "  Created wheel for pyranges: filename=pyranges-0.0.115-py3-none-any.whl size=695218 sha256=ffae50b8722c943415167e75d0eea275e823c94344027d11ac3082c74cfffcba\n",
            "  Stored in directory: /root/.cache/pip/wheels/95/79/87/d437d01cb8fd2cb20c872ee402e35ffd61d8162abc0173e488\n",
            "  Building wheel for ncls (setup.py) ... \u001b[?25l\u001b[?25hdone\n",
            "  Created wheel for ncls: filename=ncls-0.0.64-cp37-cp37m-linux_x86_64.whl size=1740810 sha256=8484a2497c6a748aedade21aca82a477c5caeeb46ff50a4862d9cdfaa56b688e\n",
            "  Stored in directory: /root/.cache/pip/wheels/79/26/09/fcf1ec1ec33026b62d283e507e55a1059f4ea96532205f1676\n",
            "  Building wheel for sorted-nearest (PEP 517) ... \u001b[?25l\u001b[?25hdone\n",
            "  Created wheel for sorted-nearest: filename=sorted_nearest-0.0.33-cp37-cp37m-linux_x86_64.whl size=4458328 sha256=2d60ea6398b5899745b08eb9a808ba1b8d91f7de161c376d731f32ecae478d76\n",
            "  Stored in directory: /root/.cache/pip/wheels/80/ba/8d/96eab78ed1196990267fd0fa7d5882d41d1fb430b5f91bf2ed\n",
            "  Building wheel for pyrle (PEP 517) ... \u001b[?25l\u001b[?25hdone\n",
            "  Created wheel for pyrle: filename=pyrle-0.0.34-cp37-cp37m-linux_x86_64.whl size=1241079 sha256=f015877c29dda9686bbb17f32e4abed9174ba63b8167f894b669f63c8017e9f4\n",
            "  Stored in directory: /root/.cache/pip/wheels/76/0d/31/e005504cdcbb6c24caa500feac20f61195da1bd5882e3f3572\n",
            "Successfully built pyranges ncls sorted-nearest pyrle\n",
            "Installing collected packages: sorted-nearest, pyrle, ncls, pyranges\n",
            "Successfully installed ncls-0.0.64 pyranges-0.0.115 pyrle-0.0.34 sorted-nearest-0.0.33\n"
          ]
        }
      ],
      "source": [
        "\n",
        "!pip install networkx\n",
        "!pip install pyranges"
      ]
    },
    {
      "cell_type": "code",
      "source": [
        "from google.colab import files\n",
        "from IPython.display import SVG, display, Image\n",
        "from math import *\n",
        "import pandas as pd \n",
        "import matplotlib.pyplot as plt\n",
        "import numpy as np\n",
        "import seaborn as sns \n",
        "import itertools\n",
        "import networkx as nx\n",
        "import pyranges as pr"
      ],
      "metadata": {
        "id": "z_nKBCIjUB9N"
      },
      "execution_count": null,
      "outputs": []
    },
    {
      "cell_type": "code",
      "source": [
        "#Loading each dataframe for each cell type/tissue \n",
        "df_GM = pd.read_csv(\"GM12878.PositivePredictions.txt\", sep='\\t')\n",
        "df_K562 = pd.read_csv(\"K562.PositivePredictions.txt\", sep='\\t')\n",
        "df_LNCAP = pd.read_csv(\"LNCAP.PositivePredictions.txt\", sep='\\t')\n",
        "df_NCCIT = pd.read_csv(\"NCCIT.PositivePredictions.txt\", sep='\\t')\n",
        "df_liver = pd.read_csv(\"liver.PositivePredictions.txt\", sep='\\t')\n",
        "df_mESC = pd.read_csv(\"mESC.PositivePredictions.txt\", sep='\\t')\n",
        "\n",
        "\n",
        "NAME_DF = {'df_GM':0,\n",
        "           'df_K562':1,\n",
        "           'df_LNCAP':2,\n",
        "           'df_NCCIT':3,\n",
        "           'df_liver':4,\n",
        "           'df_mESC':5}\n",
        "\n"
      ],
      "metadata": {
        "id": "qnIbvOBGStB9"
      },
      "execution_count": null,
      "outputs": []
    },
    {
      "cell_type": "code",
      "source": [
        "df_GM.shape"
      ],
      "metadata": {
        "id": "wCNWeSYJrG99",
        "outputId": "848b4ba2-d49e-4a8a-d1f5-eb44c1586b83",
        "colab": {
          "base_uri": "https://localhost:8080/"
        }
      },
      "execution_count": null,
      "outputs": [
        {
          "output_type": "execute_result",
          "data": {
            "text/plain": [
              "(36904, 9)"
            ]
          },
          "metadata": {},
          "execution_count": 54
        }
      ]
    },
    {
      "cell_type": "markdown",
      "source": [
        "#Finding CRHs"
      ],
      "metadata": {
        "id": "VEjjsuNT1anN"
      }
    },
    {
      "cell_type": "markdown",
      "source": [
        "##Looking for CRHs\n",
        "Let's have a look at an example of a CRH "
      ],
      "metadata": {
        "id": "m_AUX3m83b06"
      }
    },
    {
      "cell_type": "code",
      "source": [
        "## DATA CLEANING\n",
        "\n",
        "LS_DF = [df_GM,df_K562,df_LNCAP,df_NCCIT,df_liver,df_mESC] #Joining the dataframes together \n",
        "\n",
        "def concat_enhancer(row):\n",
        "  return row.chr + '-' + str(row.start) + '-' + str(row.end)\n",
        "\n",
        "for df in LS_DF:\n",
        "  df.drop(df.loc[df.chr == 'chrX'].index,inplace = True) #we don't need the chrX\n",
        "  df['enhancer'] = df.apply(concat_enhancer, axis = 'columns') # Concate the 3 columns related to the enhancer together\n",
        "  df.drop(['chr','start','end','activity','hic_contact', 'ABC_Score'],axis = 1, inplace = True) #dropping useless column"
      ],
      "metadata": {
        "id": "nWL70dvV1epg"
      },
      "execution_count": null,
      "outputs": []
    },
    {
      "cell_type": "code",
      "source": [
        "from warnings import filterwarnings\n",
        "def draw (g, is_saving = False):\n",
        "  plt.figure(figsize=(8, 8))\n",
        "  pos = nx.spring_layout(g, k = 0.8,iterations=100)\n",
        "  nodes_gene = [node for node in g.nodes if 'chr' not in node]\n",
        "  nodes_enhancer = [node for node in g.nodes if 'chr' in node]\n",
        "  labels = dict(zip([node for node in nodes_gene],['$' + node + '$' for node in nodes_gene]))\n",
        "  nx.draw_networkx_nodes(g, pos, nodelist = nodes_enhancer, node_color='blue', node_size = 100, label = 'Enhancer')\n",
        "  nx.draw_networkx_nodes(g, pos, nodelist = nodes_gene, node_color='orange', node_size = 350, label = 'Gene promoteur')\n",
        "  plt.legend(scatterpoints = 1,frameon=False)\n",
        "  plt.axis(\"off\")\n",
        "  nx.draw_networkx_edges(g,pos, width=1, edge_color=\"#cccccc\")\n",
        "  nx.draw_networkx_labels(g,pos, labels)\n",
        "  if is_saving:\n",
        "    plt.savefig('CRH.png', transparent=True)\n",
        "\n",
        "  \n",
        "def draw_multiple(S, number,is_saving = False):\n",
        "  fig,axes =plt.subplots(ceil(number/4),4, figsize = (20,10))\n",
        "  ax = axes.flatten()\n",
        "  for i in range(number):\n",
        "    pos = nx.spring_layout(S[i], k = 0.8,iterations=100)\n",
        "    nodes_gene = [node for node in S[i].nodes if 'chr' not in node]\n",
        "    nodes_enhancer = [node for node in S[i].nodes if 'chr' in node]\n",
        "    #labels = dict(zip([node for node in nodes_gene],['$' + node + '$' for node in nodes_gene]))\n",
        "    nx.draw_networkx_nodes(S[i], pos, nodelist = nodes_enhancer, node_color='blue', node_size = 50, label = 'Enhancer',ax=ax[i])\n",
        "    nx.draw_networkx_nodes(S[i], pos, nodelist = nodes_gene, node_color='orange', node_size = 200, label = 'Gene promoteur',ax=ax[i])\n",
        "    nx.draw_networkx_edges(S[i],pos, width=1, edge_color=\"#cccccc\",ax=ax[i])\n",
        "    #nx.draw_networkx_labels(S[i],pos, labels,ax=ax[i])\n",
        "    ax[i].axis(\"off\")\n",
        "  ax[1].legend(scatterpoints = 1,frameon=False)\n",
        "  if is_saving:\n",
        "    fig.savefig('CRH.png', transparent=True)"
      ],
      "metadata": {
        "id": "1VORMHYM1j-O"
      },
      "execution_count": null,
      "outputs": []
    },
    {
      "cell_type": "code",
      "source": [
        "G=nx.from_pandas_edgelist(LS_DF[NAME_DF['df_GM']], 'TargetGene', 'enhancer',\n",
        "                          edge_attr=None, create_using=None)\n",
        "\n",
        "S = [G.subgraph(c).copy() for c in nx.connected_components(G)]\n"
      ],
      "metadata": {
        "id": "uFhM5TL-1mzI"
      },
      "execution_count": null,
      "outputs": []
    },
    {
      "cell_type": "code",
      "source": [
        "draw(S[0],True)"
      ],
      "metadata": {
        "colab": {
          "base_uri": "https://localhost:8080/",
          "height": 466
        },
        "id": "37sENWVc1uFS",
        "outputId": "34725e9f-610f-4c62-8c9c-bd92961f1b1d"
      },
      "execution_count": null,
      "outputs": [
        {
          "output_type": "display_data",
          "data": {
            "text/plain": [
              "<Figure size 576x576 with 1 Axes>"
            ],
            "image/png": "[encoded data removed]"
          },
          "metadata": {}
        }
      ]
    },
    {
      "cell_type": "code",
      "source": [
        "draw_multiple(S,8, True)"
      ],
      "metadata": {
        "colab": {
          "base_uri": "https://localhost:8080/",
          "height": 439
        },
        "id": "E3OUHUXLC_HJ",
        "outputId": "8fbf6e67-d983-4ee4-e26f-bf1b5c051224"
      },
      "execution_count": null,
      "outputs": [
        {
          "output_type": "display_data",
          "data": {
            "text/plain": [
              "<Figure size 1440x720 with 8 Axes>"
            ],
            "image/png": "[encoded data removed]"
          },
          "metadata": {}
        }
      ]
    },
    {
      "cell_type": "markdown",
      "source": [
        "## Looking for common CRH "
      ],
      "metadata": {
        "id": "vnNCwgZS3fzl"
      }
    },
    {
      "cell_type": "code",
      "source": [
        "## DATA CLEANING\n",
        "#suppress chrx \n",
        "df_GM.drop(df_GM.loc[df_GM.chr == 'chrX'].index,inplace = True)\n",
        "df_K562.drop(df_K562.loc[df_K562.chr == 'chrX'].index,inplace = True)\n",
        "df_LNCAP.drop(df_LNCAP.loc[df_LNCAP.chr == 'chrX'].index,inplace = True)\n",
        "df_NCCIT.drop(df_NCCIT.loc[df_NCCIT.chr == 'chrX'].index,inplace = True)\n",
        "df_liver.drop(df_liver.loc[df_liver.chr == 'chrX'].index,inplace = True)\n",
        "df_mESC.drop(df_mESC.loc[df_mESC.chr == 'chrX'].index,inplace = True)\n",
        "\n",
        "#adding column with tissu name \n",
        "df_GM['Tissu'] = 'df_GM'\n",
        "df_K562['Tissu'] = 'df_K562'\n",
        "df_LNCAP['Tissu'] = 'df_LNCAP'\n",
        "df_NCCIT['Tissu'] = 'df_NCCIT'\n",
        "df_liver['Tissu'] = 'df_liver'\n",
        "df_mESC['Tissu'] = 'df_mESC'\n",
        "\n",
        "#Create a dataframe with all cell type\n",
        "df_all = pd.concat([df_GM,df_K562,df_LNCAP,df_NCCIT,df_liver,df_mESC], ignore_index = True)\n",
        "\n",
        "#Prepare for pyrange\n",
        "df_GM.rename({'chr':'Chromosome','start':'Start','end':'End'},axis = 1, inplace = True)\n",
        "df_K562.rename({'chr':'Chromosome','start':'Start','end':'End'},axis = 1, inplace = True)\n",
        "df_LNCAP.rename({'chr':'Chromosome','start':'Start','end':'End'},axis = 1, inplace = True)\n",
        "df_NCCIT.rename({'chr':'Chromosome','start':'Start','end':'End'},axis = 1, inplace = True)\n",
        "df_liver.rename({'chr':'Chromosome','start':'Start','end':'End'},axis = 1, inplace = True)\n",
        "df_mESC.rename({'chr':'Chromosome','start':'Start','end':'End'},axis = 1, inplace = True)\n"
      ],
      "metadata": {
        "id": "t7gHhtD51m1j",
        "colab": {
          "base_uri": "https://localhost:8080/",
          "height": 357
        },
        "outputId": "530ab9c2-47a6-4045-c68f-efa13f05f719"
      },
      "execution_count": null,
      "outputs": [
        {
          "output_type": "error",
          "ename": "AttributeError",
          "evalue": "ignored",
          "traceback": [
            "\u001b[0;31m---------------------------------------------------------------------------\u001b[0m",
            "\u001b[0;31mAttributeError\u001b[0m                            Traceback (most recent call last)",
            "\u001b[0;32m<ipython-input-9-1ab2e20cc062>\u001b[0m in \u001b[0;36m<module>\u001b[0;34m()\u001b[0m\n\u001b[1;32m      1\u001b[0m \u001b[0;31m## DATA CLEANING\u001b[0m\u001b[0;34m\u001b[0m\u001b[0;34m\u001b[0m\u001b[0;34m\u001b[0m\u001b[0m\n\u001b[1;32m      2\u001b[0m \u001b[0;31m#suppress chrx\u001b[0m\u001b[0;34m\u001b[0m\u001b[0;34m\u001b[0m\u001b[0;34m\u001b[0m\u001b[0m\n\u001b[0;32m----> 3\u001b[0;31m \u001b[0mdf_GM\u001b[0m\u001b[0;34m.\u001b[0m\u001b[0mdrop\u001b[0m\u001b[0;34m(\u001b[0m\u001b[0mdf_GM\u001b[0m\u001b[0;34m.\u001b[0m\u001b[0mloc\u001b[0m\u001b[0;34m[\u001b[0m\u001b[0mdf_GM\u001b[0m\u001b[0;34m.\u001b[0m\u001b[0mchr\u001b[0m \u001b[0;34m==\u001b[0m \u001b[0;34m'chrX'\u001b[0m\u001b[0;34m]\u001b[0m\u001b[0;34m.\u001b[0m\u001b[0mindex\u001b[0m\u001b[0;34m,\u001b[0m\u001b[0minplace\u001b[0m \u001b[0;34m=\u001b[0m \u001b[0;32mTrue\u001b[0m\u001b[0;34m)\u001b[0m\u001b[0;34m\u001b[0m\u001b[0;34m\u001b[0m\u001b[0m\n\u001b[0m\u001b[1;32m      4\u001b[0m \u001b[0mdf_K562\u001b[0m\u001b[0;34m.\u001b[0m\u001b[0mdrop\u001b[0m\u001b[0;34m(\u001b[0m\u001b[0mdf_K562\u001b[0m\u001b[0;34m.\u001b[0m\u001b[0mloc\u001b[0m\u001b[0;34m[\u001b[0m\u001b[0mdf_K562\u001b[0m\u001b[0;34m.\u001b[0m\u001b[0mchr\u001b[0m \u001b[0;34m==\u001b[0m \u001b[0;34m'chrX'\u001b[0m\u001b[0;34m]\u001b[0m\u001b[0;34m.\u001b[0m\u001b[0mindex\u001b[0m\u001b[0;34m,\u001b[0m\u001b[0minplace\u001b[0m \u001b[0;34m=\u001b[0m \u001b[0;32mTrue\u001b[0m\u001b[0;34m)\u001b[0m\u001b[0;34m\u001b[0m\u001b[0;34m\u001b[0m\u001b[0m\n\u001b[1;32m      5\u001b[0m \u001b[0mdf_LNCAP\u001b[0m\u001b[0;34m.\u001b[0m\u001b[0mdrop\u001b[0m\u001b[0;34m(\u001b[0m\u001b[0mdf_LNCAP\u001b[0m\u001b[0;34m.\u001b[0m\u001b[0mloc\u001b[0m\u001b[0;34m[\u001b[0m\u001b[0mdf_LNCAP\u001b[0m\u001b[0;34m.\u001b[0m\u001b[0mchr\u001b[0m \u001b[0;34m==\u001b[0m \u001b[0;34m'chrX'\u001b[0m\u001b[0;34m]\u001b[0m\u001b[0;34m.\u001b[0m\u001b[0mindex\u001b[0m\u001b[0;34m,\u001b[0m\u001b[0minplace\u001b[0m \u001b[0;34m=\u001b[0m \u001b[0;32mTrue\u001b[0m\u001b[0;34m)\u001b[0m\u001b[0;34m\u001b[0m\u001b[0;34m\u001b[0m\u001b[0m\n",
            "\u001b[0;32m/usr/local/lib/python3.7/dist-packages/pandas/core/generic.py\u001b[0m in \u001b[0;36m__getattr__\u001b[0;34m(self, name)\u001b[0m\n\u001b[1;32m   5485\u001b[0m         ):\n\u001b[1;32m   5486\u001b[0m             \u001b[0;32mreturn\u001b[0m \u001b[0mself\u001b[0m\u001b[0;34m[\u001b[0m\u001b[0mname\u001b[0m\u001b[0;34m]\u001b[0m\u001b[0;34m\u001b[0m\u001b[0;34m\u001b[0m\u001b[0m\n\u001b[0;32m-> 5487\u001b[0;31m         \u001b[0;32mreturn\u001b[0m \u001b[0mobject\u001b[0m\u001b[0;34m.\u001b[0m\u001b[0m__getattribute__\u001b[0m\u001b[0;34m(\u001b[0m\u001b[0mself\u001b[0m\u001b[0;34m,\u001b[0m \u001b[0mname\u001b[0m\u001b[0;34m)\u001b[0m\u001b[0;34m\u001b[0m\u001b[0;34m\u001b[0m\u001b[0m\n\u001b[0m\u001b[1;32m   5488\u001b[0m \u001b[0;34m\u001b[0m\u001b[0m\n\u001b[1;32m   5489\u001b[0m     \u001b[0;32mdef\u001b[0m \u001b[0m__setattr__\u001b[0m\u001b[0;34m(\u001b[0m\u001b[0mself\u001b[0m\u001b[0;34m,\u001b[0m \u001b[0mname\u001b[0m\u001b[0;34m:\u001b[0m \u001b[0mstr\u001b[0m\u001b[0;34m,\u001b[0m \u001b[0mvalue\u001b[0m\u001b[0;34m)\u001b[0m \u001b[0;34m->\u001b[0m \u001b[0;32mNone\u001b[0m\u001b[0;34m:\u001b[0m\u001b[0;34m\u001b[0m\u001b[0;34m\u001b[0m\u001b[0m\n",
            "\u001b[0;31mAttributeError\u001b[0m: 'DataFrame' object has no attribute 'chr'"
          ]
        }
      ]
    },
    {
      "cell_type": "code",
      "source": [
        "#mettre reste pour montrer pas de CRH"
      ],
      "metadata": {
        "id": "43LU3eC6zyFJ"
      },
      "execution_count": null,
      "outputs": []
    },
    {
      "cell_type": "code",
      "source": [],
      "metadata": {
        "id": "kxRVU5VrzyIn"
      },
      "execution_count": null,
      "outputs": []
    },
    {
      "cell_type": "markdown",
      "source": [
        "#OVERLAP"
      ],
      "metadata": {
        "id": "qiGPrMtXS8Nw"
      }
    },
    {
      "cell_type": "code",
      "source": [
        "df_GM = pd.read_csv(\"GM12878.PositivePredictions.txt\", sep='\\t')\n",
        "df_K562 = pd.read_csv(\"K562.PositivePredictions.txt\", sep='\\t')\n",
        "df_LNCAP = pd.read_csv(\"LNCAP.PositivePredictions.txt\", sep='\\t')\n",
        "df_NCCIT = pd.read_csv(\"NCCIT.PositivePredictions.txt\", sep='\\t')\n",
        "df_liver = pd.read_csv(\"liver.PositivePredictions.txt\", sep='\\t')\n",
        "df_mESC = pd.read_csv(\"mESC.PositivePredictions.txt\", sep='\\t')\n",
        "\n",
        "#suppress chrx \n",
        "df_GM.drop(df_GM.loc[df_GM.chr == 'chrX'].index,inplace = True)\n",
        "df_K562.drop(df_K562.loc[df_K562.chr == 'chrX'].index,inplace = True)\n",
        "df_LNCAP.drop(df_LNCAP.loc[df_LNCAP.chr == 'chrX'].index,inplace = True)\n",
        "df_NCCIT.drop(df_NCCIT.loc[df_NCCIT.chr == 'chrX'].index,inplace = True)\n",
        "df_liver.drop(df_liver.loc[df_liver.chr == 'chrX'].index,inplace = True)\n",
        "df_mESC.drop(df_mESC.loc[df_mESC.chr == 'chrX'].index,inplace = True)\n",
        "\n",
        "#adding column with tissu name \n",
        "df_GM['Tissu'] = 'df_GM'\n",
        "df_K562['Tissu'] = 'df_K562'\n",
        "df_LNCAP['Tissu'] = 'df_LNCAP'\n",
        "df_NCCIT['Tissu'] = 'df_NCCIT'\n",
        "df_liver['Tissu'] = 'df_liver'\n",
        "df_mESC['Tissu'] = 'df_mESC'\n",
        "\n",
        "df_all = pd.concat([df_GM,df_K562,df_LNCAP,df_NCCIT,df_liver,df_mESC], ignore_index = True)\n",
        "\n",
        "\n",
        "df_GM.rename({'chr':'Chromosome','start':'Start','end':'End'},axis = 1, inplace = True)\n",
        "df_K562.rename({'chr':'Chromosome','start':'Start','end':'End'},axis = 1, inplace = True)\n",
        "df_LNCAP.rename({'chr':'Chromosome','start':'Start','end':'End'},axis = 1, inplace = True)\n",
        "df_NCCIT.rename({'chr':'Chromosome','start':'Start','end':'End'},axis = 1, inplace = True)\n",
        "df_liver.rename({'chr':'Chromosome','start':'Start','end':'End'},axis = 1, inplace = True)\n",
        "df_mESC.rename({'chr':'Chromosome','start':'Start','end':'End'},axis = 1, inplace = True)\n",
        "\n",
        "\n",
        "\n",
        "#Create PR object \n",
        "pr_GM = pr.PyRanges(df_GM[['Chromosome', 'Start', 'End']])\n",
        "pr_K562 = pr.PyRanges(df_K562[['Chromosome', 'Start', 'End']])\n",
        "pr_LNCAP = pr.PyRanges(df_LNCAP[['Chromosome', 'Start', 'End']])\n",
        "pr_NCCIT = pr.PyRanges(df_NCCIT[['Chromosome', 'Start', 'End']])\n",
        "pr_liver = pr.PyRanges(df_liver[['Chromosome', 'Start', 'End']])\n",
        "pr_mESC = pr.PyRanges(df_mESC[['Chromosome', 'Start', 'End']])"
      ],
      "metadata": {
        "id": "_Px5eOJoS-jJ"
      },
      "execution_count": null,
      "outputs": []
    },
    {
      "cell_type": "code",
      "source": [
        "#create dic with the pyranges dataframe\n",
        "grs = {\n",
        "    'GM':pr_GM,\n",
        "    'K562':pr_K562,\n",
        "    'LNCAP':pr_LNCAP,\n",
        "    'NCCIT':pr_NCCIT,\n",
        "    'liver':pr_liver,\n",
        "    'mESC':pr_mESC\n",
        "       }"
      ],
      "metadata": {
        "id": "q-ONElHaTKkp"
      },
      "execution_count": null,
      "outputs": []
    },
    {
      "cell_type": "code",
      "source": [
        "#Creating the overlap DF\n",
        "df_overlaps =pr.count_overlaps(grs).as_df()\n",
        "\n",
        "#Creating a column with the number of tissu where the overlap happens\n",
        "df_temp = df_overlaps[['GM', 'K562', 'LNCAP', 'NCCIT', 'liver',\n",
        "       'mESC']] !=0\n",
        "df_overlaps['number_of_tissu_overlapping'] = df_temp.sum(axis =1)\n",
        "df_overlaps\n"
      ],
      "metadata": {
        "colab": {
          "base_uri": "https://localhost:8080/",
          "height": 423
        },
        "id": "vxozJ6CmTR4D",
        "outputId": "c65bb237-1373-47f1-d648-452ebfd7e761"
      },
      "execution_count": null,
      "outputs": [
        {
          "output_type": "execute_result",
          "data": {
            "text/plain": [
              "       Chromosome     Start       End  GM  K562  LNCAP  NCCIT  liver  mESC  \\\n",
              "0            chr1    761105    761605   0     2      0      0      0     0   \n",
              "1            chr1    761605    767335   0     0      0      0      0     0   \n",
              "2            chr1    767335    767955   0     0      2      0      0     0   \n",
              "3            chr1    767955    793954   0     0      0      0      0     0   \n",
              "4            chr1    793954    794454   0     0      1      0      0     0   \n",
              "...           ...       ...       ...  ..   ...    ...    ...    ...   ...   \n",
              "211295      chr22  51138885  51139385   0     0      0      0      4     0   \n",
              "211296      chr22  51139385  51213457   0     0      0      0      0     0   \n",
              "211297      chr22  51213457  51213530   0     0      1      0      0     0   \n",
              "211298      chr22  51213530  51214030   0     0      1      2      0     0   \n",
              "211299      chr22  51214030  51214089   0     0      1      0      0     0   \n",
              "\n",
              "        number_of_tissu_overlapping  \n",
              "0                                 1  \n",
              "1                                 0  \n",
              "2                                 1  \n",
              "3                                 0  \n",
              "4                                 1  \n",
              "...                             ...  \n",
              "211295                            1  \n",
              "211296                            0  \n",
              "211297                            1  \n",
              "211298                            2  \n",
              "211299                            1  \n",
              "\n",
              "[211300 rows x 10 columns]"
            ],
            "text/html": [
              "\n",
              "  <div id=\"df-484460ce-8098-40a6-9201-c6a49740fb45\">\n",
              "    <div class=\"colab-df-container\">\n",
              "      <div>\n",
              "<style scoped>\n",
              "    .dataframe tbody tr th:only-of-type {\n",
              "        vertical-align: middle;\n",
              "    }\n",
              "\n",
              "    .dataframe tbody tr th {\n",
              "        vertical-align: top;\n",
              "    }\n",
              "\n",
              "    .dataframe thead th {\n",
              "        text-align: right;\n",
              "    }\n",
              "</style>\n",
              "<table border=\"1\" class=\"dataframe\">\n",
              "  <thead>\n",
              "    <tr style=\"text-align: right;\">\n",
              "      <th></th>\n",
              "      <th>Chromosome</th>\n",
              "      <th>Start</th>\n",
              "      <th>End</th>\n",
              "      <th>GM</th>\n",
              "      <th>K562</th>\n",
              "      <th>LNCAP</th>\n",
              "      <th>NCCIT</th>\n",
              "      <th>liver</th>\n",
              "      <th>mESC</th>\n",
              "      <th>number_of_tissu_overlapping</th>\n",
              "    </tr>\n",
              "  </thead>\n",
              "  <tbody>\n",
              "    <tr>\n",
              "      <th>0</th>\n",
              "      <td>chr1</td>\n",
              "      <td>761105</td>\n",
              "      <td>761605</td>\n",
              "      <td>0</td>\n",
              "      <td>2</td>\n",
              "      <td>0</td>\n",
              "      <td>0</td>\n",
              "      <td>0</td>\n",
              "      <td>0</td>\n",
              "      <td>1</td>\n",
              "    </tr>\n",
              "    <tr>\n",
              "      <th>1</th>\n",
              "      <td>chr1</td>\n",
              "      <td>761605</td>\n",
              "      <td>767335</td>\n",
              "      <td>0</td>\n",
              "      <td>0</td>\n",
              "      <td>0</td>\n",
              "      <td>0</td>\n",
              "      <td>0</td>\n",
              "      <td>0</td>\n",
              "      <td>0</td>\n",
              "    </tr>\n",
              "    <tr>\n",
              "      <th>2</th>\n",
              "      <td>chr1</td>\n",
              "      <td>767335</td>\n",
              "      <td>767955</td>\n",
              "      <td>0</td>\n",
              "      <td>0</td>\n",
              "      <td>2</td>\n",
              "      <td>0</td>\n",
              "      <td>0</td>\n",
              "      <td>0</td>\n",
              "      <td>1</td>\n",
              "    </tr>\n",
              "    <tr>\n",
              "      <th>3</th>\n",
              "      <td>chr1</td>\n",
              "      <td>767955</td>\n",
              "      <td>793954</td>\n",
              "      <td>0</td>\n",
              "      <td>0</td>\n",
              "      <td>0</td>\n",
              "      <td>0</td>\n",
              "      <td>0</td>\n",
              "      <td>0</td>\n",
              "      <td>0</td>\n",
              "    </tr>\n",
              "    <tr>\n",
              "      <th>4</th>\n",
              "      <td>chr1</td>\n",
              "      <td>793954</td>\n",
              "      <td>794454</td>\n",
              "      <td>0</td>\n",
              "      <td>0</td>\n",
              "      <td>1</td>\n",
              "      <td>0</td>\n",
              "      <td>0</td>\n",
              "      <td>0</td>\n",
              "      <td>1</td>\n",
              "    </tr>\n",
              "    <tr>\n",
              "      <th>...</th>\n",
              "      <td>...</td>\n",
              "      <td>...</td>\n",
              "      <td>...</td>\n",
              "      <td>...</td>\n",
              "      <td>...</td>\n",
              "      <td>...</td>\n",
              "      <td>...</td>\n",
              "      <td>...</td>\n",
              "      <td>...</td>\n",
              "      <td>...</td>\n",
              "    </tr>\n",
              "    <tr>\n",
              "      <th>211295</th>\n",
              "      <td>chr22</td>\n",
              "      <td>51138885</td>\n",
              "      <td>51139385</td>\n",
              "      <td>0</td>\n",
              "      <td>0</td>\n",
              "      <td>0</td>\n",
              "      <td>0</td>\n",
              "      <td>4</td>\n",
              "      <td>0</td>\n",
              "      <td>1</td>\n",
              "    </tr>\n",
              "    <tr>\n",
              "      <th>211296</th>\n",
              "      <td>chr22</td>\n",
              "      <td>51139385</td>\n",
              "      <td>51213457</td>\n",
              "      <td>0</td>\n",
              "      <td>0</td>\n",
              "      <td>0</td>\n",
              "      <td>0</td>\n",
              "      <td>0</td>\n",
              "      <td>0</td>\n",
              "      <td>0</td>\n",
              "    </tr>\n",
              "    <tr>\n",
              "      <th>211297</th>\n",
              "      <td>chr22</td>\n",
              "      <td>51213457</td>\n",
              "      <td>51213530</td>\n",
              "      <td>0</td>\n",
              "      <td>0</td>\n",
              "      <td>1</td>\n",
              "      <td>0</td>\n",
              "      <td>0</td>\n",
              "      <td>0</td>\n",
              "      <td>1</td>\n",
              "    </tr>\n",
              "    <tr>\n",
              "      <th>211298</th>\n",
              "      <td>chr22</td>\n",
              "      <td>51213530</td>\n",
              "      <td>51214030</td>\n",
              "      <td>0</td>\n",
              "      <td>0</td>\n",
              "      <td>1</td>\n",
              "      <td>2</td>\n",
              "      <td>0</td>\n",
              "      <td>0</td>\n",
              "      <td>2</td>\n",
              "    </tr>\n",
              "    <tr>\n",
              "      <th>211299</th>\n",
              "      <td>chr22</td>\n",
              "      <td>51214030</td>\n",
              "      <td>51214089</td>\n",
              "      <td>0</td>\n",
              "      <td>0</td>\n",
              "      <td>1</td>\n",
              "      <td>0</td>\n",
              "      <td>0</td>\n",
              "      <td>0</td>\n",
              "      <td>1</td>\n",
              "    </tr>\n",
              "  </tbody>\n",
              "</table>\n",
              "<p>211300 rows × 10 columns</p>\n",
              "</div>\n",
              "      <button class=\"colab-df-convert\" onclick=\"convertToInteractive('df-484460ce-8098-40a6-9201-c6a49740fb45')\"\n",
              "              title=\"Convert this dataframe to an interactive table.\"\n",
              "              style=\"display:none;\">\n",
              "        \n",
              "  <svg xmlns=\"http://www.w3.org/2000/svg\" height=\"24px\"viewBox=\"0 0 24 24\"\n",
              "       width=\"24px\">\n",
              "    <path d=\"M0 0h24v24H0V0z\" fill=\"none\"/>\n",
              "    <path d=\"M18.56 5.44l.94 2.06.94-2.06 2.06-.94-2.06-.94-.94-2.06-.94 2.06-2.06.94zm-11 1L8.5 8.5l.94-2.06 2.06-.94-2.06-.94L8.5 2.5l-.94 2.06-2.06.94zm10 10l.94 2.06.94-2.06 2.06-.94-2.06-.94-.94-2.06-.94 2.06-2.06.94z\"/><path d=\"M17.41 7.96l-1.37-1.37c-.4-.4-.92-.59-1.43-.59-.52 0-1.04.2-1.43.59L10.3 9.45l-7.72 7.72c-.78.78-.78 2.05 0 2.83L4 21.41c.39.39.9.59 1.41.59.51 0 1.02-.2 1.41-.59l7.78-7.78 2.81-2.81c.8-.78.8-2.07 0-2.86zM5.41 20L4 18.59l7.72-7.72 1.47 1.35L5.41 20z\"/>\n",
              "  </svg>\n",
              "      </button>\n",
              "      \n",
              "  <style>\n",
              "    .colab-df-container {\n",
              "      display:flex;\n",
              "      flex-wrap:wrap;\n",
              "      gap: 12px;\n",
              "    }\n",
              "\n",
              "    .colab-df-convert {\n",
              "      background-color: #E8F0FE;\n",
              "      border: none;\n",
              "      border-radius: 50%;\n",
              "      cursor: pointer;\n",
              "      display: none;\n",
              "      fill: #1967D2;\n",
              "      height: 32px;\n",
              "      padding: 0 0 0 0;\n",
              "      width: 32px;\n",
              "    }\n",
              "\n",
              "    .colab-df-convert:hover {\n",
              "      background-color: #E2EBFA;\n",
              "      box-shadow: 0px 1px 2px rgba(60, 64, 67, 0.3), 0px 1px 3px 1px rgba(60, 64, 67, 0.15);\n",
              "      fill: #174EA6;\n",
              "    }\n",
              "\n",
              "    [theme=dark] .colab-df-convert {\n",
              "      background-color: #3B4455;\n",
              "      fill: #D2E3FC;\n",
              "    }\n",
              "\n",
              "    [theme=dark] .colab-df-convert:hover {\n",
              "      background-color: #434B5C;\n",
              "      box-shadow: 0px 1px 3px 1px rgba(0, 0, 0, 0.15);\n",
              "      filter: drop-shadow(0px 1px 2px rgba(0, 0, 0, 0.3));\n",
              "      fill: #FFFFFF;\n",
              "    }\n",
              "  </style>\n",
              "\n",
              "      <script>\n",
              "        const buttonEl =\n",
              "          document.querySelector('#df-484460ce-8098-40a6-9201-c6a49740fb45 button.colab-df-convert');\n",
              "        buttonEl.style.display =\n",
              "          google.colab.kernel.accessAllowed ? 'block' : 'none';\n",
              "\n",
              "        async function convertToInteractive(key) {\n",
              "          const element = document.querySelector('#df-484460ce-8098-40a6-9201-c6a49740fb45');\n",
              "          const dataTable =\n",
              "            await google.colab.kernel.invokeFunction('convertToInteractive',\n",
              "                                                     [key], {});\n",
              "          if (!dataTable) return;\n",
              "\n",
              "          const docLinkHtml = 'Like what you see? Visit the ' +\n",
              "            '<a target=\"_blank\" href=https://colab.research.google.com/notebooks/data_table.ipynb>data table notebook</a>'\n",
              "            + ' to learn more about interactive tables.';\n",
              "          element.innerHTML = '';\n",
              "          dataTable['output_type'] = 'display_data';\n",
              "          await google.colab.output.renderOutput(dataTable, element);\n",
              "          const docLink = document.createElement('div');\n",
              "          docLink.innerHTML = docLinkHtml;\n",
              "          element.appendChild(docLink);\n",
              "        }\n",
              "      </script>\n",
              "    </div>\n",
              "  </div>\n",
              "  "
            ]
          },
          "metadata": {},
          "execution_count": 12
        }
      ]
    },
    {
      "cell_type": "code",
      "source": [
        "#Get overlap present in 5 tissus\n",
        "df_overlap_5 = df_overlaps.loc[df_overlaps['number_of_tissu_overlapping'] == 5]"
      ],
      "metadata": {
        "id": "nuc2BKKoToTs"
      },
      "execution_count": null,
      "outputs": []
    },
    {
      "cell_type": "code",
      "source": [
        "#Create a new column in the original database with the overlap \n",
        "df_all['enhancer'] = 1\n",
        "df_all.head()\n",
        "def new_enhancer (row):\n",
        "  df_temp = df_all.loc[(df_all['start']<= row.Start) & (df_all['end'] >= row.End)]\n",
        "  #if (df_all.loc[df_temp.index,\"enhancer\"] !=1).all(): #check si la ligne avait deja une valeur\n",
        "  df_all.loc[df_temp.index,\"enhancer\"] =  row.Chromosome +\"-\" +str(row.Start)+ \"-\" + str(row.End)\n",
        "  return row \n",
        "df_overlap_5.apply(new_enhancer, axis = 'columns')"
      ],
      "metadata": {
        "colab": {
          "base_uri": "https://localhost:8080/",
          "height": 423
        },
        "id": "JBJPMo9GTvew",
        "outputId": "ca794a07-af85-4279-cd79-02b905e86050"
      },
      "execution_count": null,
      "outputs": [
        {
          "output_type": "execute_result",
          "data": {
            "text/plain": [
              "       Chromosome     Start       End  GM  K562  LNCAP  NCCIT  liver  mESC  \\\n",
              "54           chr1    937233    937338   1     4      2      2      4     0   \n",
              "288          chr1   1440405   1440685   1     1     11      6      8     0   \n",
              "436          chr1   2120887   2121314   1     3      4      5      5     0   \n",
              "450          chr1   2130684   2131105   1     4      1      1      1     0   \n",
              "550          chr1   2477536   2477825   1     3      2      6      8     0   \n",
              "...           ...       ...       ...  ..   ...    ...    ...    ...   ...   \n",
              "210116      chr22  41840387  41840759   1     3      1      9      3     0   \n",
              "210130      chr22  41844350  41844804   3     3      3     15      3     0   \n",
              "210196      chr22  42093156  42093528   3     2      1      2      2     0   \n",
              "210598      chr22  45080761  45080951   1     1      1      1      1     0   \n",
              "210732      chr22  46409409  46409779   3     7      1      6      4     0   \n",
              "\n",
              "        number_of_tissu_overlapping  \n",
              "54                                5  \n",
              "288                               5  \n",
              "436                               5  \n",
              "450                               5  \n",
              "550                               5  \n",
              "...                             ...  \n",
              "210116                            5  \n",
              "210130                            5  \n",
              "210196                            5  \n",
              "210598                            5  \n",
              "210732                            5  \n",
              "\n",
              "[611 rows x 10 columns]"
            ],
            "text/html": [
              "\n",
              "  <div id=\"df-d4660d8e-0019-4b24-b8c8-e4fe974d10dd\">\n",
              "    <div class=\"colab-df-container\">\n",
              "      <div>\n",
              "<style scoped>\n",
              "    .dataframe tbody tr th:only-of-type {\n",
              "        vertical-align: middle;\n",
              "    }\n",
              "\n",
              "    .dataframe tbody tr th {\n",
              "        vertical-align: top;\n",
              "    }\n",
              "\n",
              "    .dataframe thead th {\n",
              "        text-align: right;\n",
              "    }\n",
              "</style>\n",
              "<table border=\"1\" class=\"dataframe\">\n",
              "  <thead>\n",
              "    <tr style=\"text-align: right;\">\n",
              "      <th></th>\n",
              "      <th>Chromosome</th>\n",
              "      <th>Start</th>\n",
              "      <th>End</th>\n",
              "      <th>GM</th>\n",
              "      <th>K562</th>\n",
              "      <th>LNCAP</th>\n",
              "      <th>NCCIT</th>\n",
              "      <th>liver</th>\n",
              "      <th>mESC</th>\n",
              "      <th>number_of_tissu_overlapping</th>\n",
              "    </tr>\n",
              "  </thead>\n",
              "  <tbody>\n",
              "    <tr>\n",
              "      <th>54</th>\n",
              "      <td>chr1</td>\n",
              "      <td>937233</td>\n",
              "      <td>937338</td>\n",
              "      <td>1</td>\n",
              "      <td>4</td>\n",
              "      <td>2</td>\n",
              "      <td>2</td>\n",
              "      <td>4</td>\n",
              "      <td>0</td>\n",
              "      <td>5</td>\n",
              "    </tr>\n",
              "    <tr>\n",
              "      <th>288</th>\n",
              "      <td>chr1</td>\n",
              "      <td>1440405</td>\n",
              "      <td>1440685</td>\n",
              "      <td>1</td>\n",
              "      <td>1</td>\n",
              "      <td>11</td>\n",
              "      <td>6</td>\n",
              "      <td>8</td>\n",
              "      <td>0</td>\n",
              "      <td>5</td>\n",
              "    </tr>\n",
              "    <tr>\n",
              "      <th>436</th>\n",
              "      <td>chr1</td>\n",
              "      <td>2120887</td>\n",
              "      <td>2121314</td>\n",
              "      <td>1</td>\n",
              "      <td>3</td>\n",
              "      <td>4</td>\n",
              "      <td>5</td>\n",
              "      <td>5</td>\n",
              "      <td>0</td>\n",
              "      <td>5</td>\n",
              "    </tr>\n",
              "    <tr>\n",
              "      <th>450</th>\n",
              "      <td>chr1</td>\n",
              "      <td>2130684</td>\n",
              "      <td>2131105</td>\n",
              "      <td>1</td>\n",
              "      <td>4</td>\n",
              "      <td>1</td>\n",
              "      <td>1</td>\n",
              "      <td>1</td>\n",
              "      <td>0</td>\n",
              "      <td>5</td>\n",
              "    </tr>\n",
              "    <tr>\n",
              "      <th>550</th>\n",
              "      <td>chr1</td>\n",
              "      <td>2477536</td>\n",
              "      <td>2477825</td>\n",
              "      <td>1</td>\n",
              "      <td>3</td>\n",
              "      <td>2</td>\n",
              "      <td>6</td>\n",
              "      <td>8</td>\n",
              "      <td>0</td>\n",
              "      <td>5</td>\n",
              "    </tr>\n",
              "    <tr>\n",
              "      <th>...</th>\n",
              "      <td>...</td>\n",
              "      <td>...</td>\n",
              "      <td>...</td>\n",
              "      <td>...</td>\n",
              "      <td>...</td>\n",
              "      <td>...</td>\n",
              "      <td>...</td>\n",
              "      <td>...</td>\n",
              "      <td>...</td>\n",
              "      <td>...</td>\n",
              "    </tr>\n",
              "    <tr>\n",
              "      <th>210116</th>\n",
              "      <td>chr22</td>\n",
              "      <td>41840387</td>\n",
              "      <td>41840759</td>\n",
              "      <td>1</td>\n",
              "      <td>3</td>\n",
              "      <td>1</td>\n",
              "      <td>9</td>\n",
              "      <td>3</td>\n",
              "      <td>0</td>\n",
              "      <td>5</td>\n",
              "    </tr>\n",
              "    <tr>\n",
              "      <th>210130</th>\n",
              "      <td>chr22</td>\n",
              "      <td>41844350</td>\n",
              "      <td>41844804</td>\n",
              "      <td>3</td>\n",
              "      <td>3</td>\n",
              "      <td>3</td>\n",
              "      <td>15</td>\n",
              "      <td>3</td>\n",
              "      <td>0</td>\n",
              "      <td>5</td>\n",
              "    </tr>\n",
              "    <tr>\n",
              "      <th>210196</th>\n",
              "      <td>chr22</td>\n",
              "      <td>42093156</td>\n",
              "      <td>42093528</td>\n",
              "      <td>3</td>\n",
              "      <td>2</td>\n",
              "      <td>1</td>\n",
              "      <td>2</td>\n",
              "      <td>2</td>\n",
              "      <td>0</td>\n",
              "      <td>5</td>\n",
              "    </tr>\n",
              "    <tr>\n",
              "      <th>210598</th>\n",
              "      <td>chr22</td>\n",
              "      <td>45080761</td>\n",
              "      <td>45080951</td>\n",
              "      <td>1</td>\n",
              "      <td>1</td>\n",
              "      <td>1</td>\n",
              "      <td>1</td>\n",
              "      <td>1</td>\n",
              "      <td>0</td>\n",
              "      <td>5</td>\n",
              "    </tr>\n",
              "    <tr>\n",
              "      <th>210732</th>\n",
              "      <td>chr22</td>\n",
              "      <td>46409409</td>\n",
              "      <td>46409779</td>\n",
              "      <td>3</td>\n",
              "      <td>7</td>\n",
              "      <td>1</td>\n",
              "      <td>6</td>\n",
              "      <td>4</td>\n",
              "      <td>0</td>\n",
              "      <td>5</td>\n",
              "    </tr>\n",
              "  </tbody>\n",
              "</table>\n",
              "<p>611 rows × 10 columns</p>\n",
              "</div>\n",
              "      <button class=\"colab-df-convert\" onclick=\"convertToInteractive('df-d4660d8e-0019-4b24-b8c8-e4fe974d10dd')\"\n",
              "              title=\"Convert this dataframe to an interactive table.\"\n",
              "              style=\"display:none;\">\n",
              "        \n",
              "  <svg xmlns=\"http://www.w3.org/2000/svg\" height=\"24px\"viewBox=\"0 0 24 24\"\n",
              "       width=\"24px\">\n",
              "    <path d=\"M0 0h24v24H0V0z\" fill=\"none\"/>\n",
              "    <path d=\"M18.56 5.44l.94 2.06.94-2.06 2.06-.94-2.06-.94-.94-2.06-.94 2.06-2.06.94zm-11 1L8.5 8.5l.94-2.06 2.06-.94-2.06-.94L8.5 2.5l-.94 2.06-2.06.94zm10 10l.94 2.06.94-2.06 2.06-.94-2.06-.94-.94-2.06-.94 2.06-2.06.94z\"/><path d=\"M17.41 7.96l-1.37-1.37c-.4-.4-.92-.59-1.43-.59-.52 0-1.04.2-1.43.59L10.3 9.45l-7.72 7.72c-.78.78-.78 2.05 0 2.83L4 21.41c.39.39.9.59 1.41.59.51 0 1.02-.2 1.41-.59l7.78-7.78 2.81-2.81c.8-.78.8-2.07 0-2.86zM5.41 20L4 18.59l7.72-7.72 1.47 1.35L5.41 20z\"/>\n",
              "  </svg>\n",
              "      </button>\n",
              "      \n",
              "  <style>\n",
              "    .colab-df-container {\n",
              "      display:flex;\n",
              "      flex-wrap:wrap;\n",
              "      gap: 12px;\n",
              "    }\n",
              "\n",
              "    .colab-df-convert {\n",
              "      background-color: #E8F0FE;\n",
              "      border: none;\n",
              "      border-radius: 50%;\n",
              "      cursor: pointer;\n",
              "      display: none;\n",
              "      fill: #1967D2;\n",
              "      height: 32px;\n",
              "      padding: 0 0 0 0;\n",
              "      width: 32px;\n",
              "    }\n",
              "\n",
              "    .colab-df-convert:hover {\n",
              "      background-color: #E2EBFA;\n",
              "      box-shadow: 0px 1px 2px rgba(60, 64, 67, 0.3), 0px 1px 3px 1px rgba(60, 64, 67, 0.15);\n",
              "      fill: #174EA6;\n",
              "    }\n",
              "\n",
              "    [theme=dark] .colab-df-convert {\n",
              "      background-color: #3B4455;\n",
              "      fill: #D2E3FC;\n",
              "    }\n",
              "\n",
              "    [theme=dark] .colab-df-convert:hover {\n",
              "      background-color: #434B5C;\n",
              "      box-shadow: 0px 1px 3px 1px rgba(0, 0, 0, 0.15);\n",
              "      filter: drop-shadow(0px 1px 2px rgba(0, 0, 0, 0.3));\n",
              "      fill: #FFFFFF;\n",
              "    }\n",
              "  </style>\n",
              "\n",
              "      <script>\n",
              "        const buttonEl =\n",
              "          document.querySelector('#df-d4660d8e-0019-4b24-b8c8-e4fe974d10dd button.colab-df-convert');\n",
              "        buttonEl.style.display =\n",
              "          google.colab.kernel.accessAllowed ? 'block' : 'none';\n",
              "\n",
              "        async function convertToInteractive(key) {\n",
              "          const element = document.querySelector('#df-d4660d8e-0019-4b24-b8c8-e4fe974d10dd');\n",
              "          const dataTable =\n",
              "            await google.colab.kernel.invokeFunction('convertToInteractive',\n",
              "                                                     [key], {});\n",
              "          if (!dataTable) return;\n",
              "\n",
              "          const docLinkHtml = 'Like what you see? Visit the ' +\n",
              "            '<a target=\"_blank\" href=https://colab.research.google.com/notebooks/data_table.ipynb>data table notebook</a>'\n",
              "            + ' to learn more about interactive tables.';\n",
              "          element.innerHTML = '';\n",
              "          dataTable['output_type'] = 'display_data';\n",
              "          await google.colab.output.renderOutput(dataTable, element);\n",
              "          const docLink = document.createElement('div');\n",
              "          docLink.innerHTML = docLinkHtml;\n",
              "          element.appendChild(docLink);\n",
              "        }\n",
              "      </script>\n",
              "    </div>\n",
              "  </div>\n",
              "  "
            ]
          },
          "metadata": {},
          "execution_count": 14
        }
      ]
    },
    {
      "cell_type": "code",
      "source": [
        "#remplir le reste de la database qui n'a pas d'overlap avec leur start et end \n",
        "def fill_non_overlap(row):\n",
        "  if row.enhancer ==1:\n",
        "    row.enhancer = row.chr +\"-\" + str(row.start) +\"-\" + str(row.end)\n",
        "  return row\n",
        "df_all = df_all.apply(fill_non_overlap, axis = 'columns')"
      ],
      "metadata": {
        "id": "6PXeQUPzT9ta"
      },
      "execution_count": null,
      "outputs": []
    },
    {
      "cell_type": "code",
      "source": [
        "#Double checking the function \n",
        "if (df_all.loc[df_all['enhancer'] ==1 ]).empty:\n",
        "  print ('All enhancer have been renamed, good to go')\n",
        "else: \n",
        "  print ('please double check function ')"
      ],
      "metadata": {
        "colab": {
          "base_uri": "https://localhost:8080/"
        },
        "id": "3yiJaCH1aQwR",
        "outputId": "2ef8dd32-f791-41f9-b674-f25e24aa8b1e"
      },
      "execution_count": null,
      "outputs": [
        {
          "output_type": "stream",
          "name": "stdout",
          "text": [
            "All enhancer have been renamed, good to go\n"
          ]
        }
      ]
    },
    {
      "cell_type": "markdown",
      "source": [
        "#Finding common CRHs in the tissues\n"
      ],
      "metadata": {
        "id": "Eso0FvZpU2_i"
      }
    },
    {
      "cell_type": "code",
      "source": [],
      "metadata": {
        "id": "fDtmF7GWS9f5"
      },
      "execution_count": null,
      "outputs": []
    },
    {
      "cell_type": "code",
      "source": [
        "#Fonction pour dessiner les graphes\n",
        "def draw (g, is_show_label = False):\n",
        "  plt.figure(figsize=(5, 5))\n",
        "  layout = nx.spring_layout(g, k = 0.8,iterations=100)\n",
        "  nodes_gene = [node for node in g.nodes if 'chr' not in node]\n",
        "  nodes_enhancer = [node for node in g.nodes if 'chr' in node]\n",
        "  nx.draw(g, layout, with_labels = is_show_label, nodelist = nodes_enhancer, node_color='blue', node_size = 100)\n",
        "  nx.draw(g, layout, with_labels = is_show_label, nodelist = nodes_gene, node_color='orange', node_size = 500)\n",
        "  nx.draw_networkx_edges(g,layout, width=1, edge_color=\"#cccccc\")\n",
        "  plt.margins(x=0.4)\n",
        "  #nx.draw_networkx_labels(g)"
      ],
      "metadata": {
        "id": "H8sFmjncUFDp"
      },
      "execution_count": null,
      "outputs": []
    },
    {
      "cell_type": "code",
      "source": [
        "#Creating the LS_DF\n",
        "df_GM = df_all.loc[df_all['Tissu'] == 'df_GM']\n",
        "df_K562 = df_all.loc[df_all['Tissu'] == 'df_K562']\n",
        "df_LNCAP = df_all.loc[df_all['Tissu'] == 'df_LNCAP']\n",
        "df_NCCIT = df_all.loc[df_all['Tissu'] == 'df_NCCIT']\n",
        "df_liver = df_all.loc[df_all['Tissu'] == 'df_liver']\n",
        "LS_DF = [df_GM,df_K562,df_LNCAP,df_NCCIT,df_liver]"
      ],
      "metadata": {
        "id": "1SDTbW5-Vdl6"
      },
      "execution_count": null,
      "outputs": []
    },
    {
      "cell_type": "code",
      "source": [
        "#Fonction to have all the subgraph from all the database \n",
        "#[[subgraph_df_GM], [subgraph_df_K562], ... ]\n",
        "LS_SUBGRAPH = []\n",
        "for i, db in enumerate(LS_DF):\n",
        "  G = nx.from_pandas_edgelist(db, 'TargetGene', 'enhancer', edge_attr=None, create_using=None)\n",
        "  S = [G.subgraph(c).copy() for c in nx.connected_components(G)]\n",
        "  LS_SUBGRAPH.append(S)"
      ],
      "metadata": {
        "id": "JfjgTE5_U8fJ"
      },
      "execution_count": null,
      "outputs": []
    },
    {
      "cell_type": "code",
      "source": [
        "#Fonction to have all the graph from all the database \n",
        "#[Graph_df_GM, Graph_df_K562, ... ]\n",
        "LS_GRAPH = []\n",
        "for i, db in enumerate(LS_DF):\n",
        "  G = nx.from_pandas_edgelist(db, 'TargetGene', 'enhancer', edge_attr=None, create_using=None)\n",
        "  LS_GRAPH.append(G)"
      ],
      "metadata": {
        "id": "pN4rN2QOVCgf"
      },
      "execution_count": null,
      "outputs": []
    },
    {
      "cell_type": "code",
      "source": [
        "3\n",
        "g_intersection = nx.intersection(LS_GRAPH[0],LS_GRAPH[1])\n",
        "S = [G.subgraph(c).copy() for c in nx.connected_components(g_intersection)]"
      ],
      "metadata": {
        "id": "FajhAj5pVK-d"
      },
      "execution_count": null,
      "outputs": []
    },
    {
      "cell_type": "code",
      "source": [
        "df_GM.shape"
      ],
      "metadata": {
        "colab": {
          "base_uri": "https://localhost:8080/"
        },
        "id": "bd7IEaLvbKpR",
        "outputId": "64c6fb78-8e89-401d-a989-932a6c6fd168"
      },
      "execution_count": null,
      "outputs": [
        {
          "output_type": "execute_result",
          "data": {
            "text/plain": [
              "(36904, 9)"
            ]
          },
          "metadata": {},
          "execution_count": 22
        }
      ]
    },
    {
      "cell_type": "code",
      "source": [
        "len(S)"
      ],
      "metadata": {
        "id": "n_fPeax_aBcZ",
        "colab": {
          "base_uri": "https://localhost:8080/"
        },
        "outputId": "517ea32e-44ab-41e7-c0c9-3298c6c3c4f1"
      },
      "execution_count": null,
      "outputs": [
        {
          "output_type": "execute_result",
          "data": {
            "text/plain": [
              "7078"
            ]
          },
          "metadata": {},
          "execution_count": 23
        }
      ]
    },
    {
      "cell_type": "markdown",
      "source": [
        "#Verification"
      ],
      "metadata": {
        "id": "dZ7kdK44dhFm"
      }
    },
    {
      "cell_type": "markdown",
      "source": [
        "Il y a 7078 CRH partage entre df_GM et df_K562\n",
        "Je vais verifier pour un des CRH si c'est vraiment le cas"
      ],
      "metadata": {
        "id": "EtdxC6NObgz2"
      }
    },
    {
      "cell_type": "code",
      "source": [
        "gene_list_GM = list(df_GM['TargetGene'])\n",
        "enhancer_list_GM = list(df_GM['enhancer'])\n",
        "\n",
        "gene_list_K562 = list(df_K562['TargetGene'])\n",
        "enhancer_list_K562 = list(df_K562['enhancer'])\n",
        "\n",
        "S_1 = [s for s in S if (len(s.nodes)) > 10]\n",
        "gene_list_intersection = [gene for gene in list(S_1[0].nodes()) if 'chr' not in gene]\n",
        "enhancer_list_intersection = [enhancer for enhancer in list(S_1[0].nodes()) if 'chr' in enhancer]\n",
        "\n",
        "print([gene in gene_list_GM for gene in gene_list_intersection])\n",
        "print([enhancer in enhancer_list_GM for enhancer in enhancer_list_intersection])\n",
        "\n",
        "print([gene in gene_list_K562 for gene in gene_list_intersection])\n",
        "print([enhancer in enhancer_list_K562 for enhancer in enhancer_list_intersection])\n",
        "\n"
      ],
      "metadata": {
        "colab": {
          "base_uri": "https://localhost:8080/"
        },
        "id": "Pt1BIOo_bdPk",
        "outputId": "95f24a59-00c1-41ae-8f38-778fdac9095c"
      },
      "execution_count": null,
      "outputs": [
        {
          "output_type": "stream",
          "name": "stdout",
          "text": [
            "[True, True, True, True, True, True, True]\n",
            "[True, True, True, True, True]\n",
            "[True, True, True, True, True, True, True]\n",
            "[True, True, True, True, True]\n"
          ]
        }
      ]
    },
    {
      "cell_type": "code",
      "source": [
        "df_GM.loc[df_GM['TargetGene'] == gene_list_intersection[1]]"
      ],
      "metadata": {
        "colab": {
          "base_uri": "https://localhost:8080/",
          "height": 237
        },
        "id": "AahOQmnQdC2G",
        "outputId": "a3f2a3d1-b3cd-4fd5-b2b1-00ff3efda334"
      },
      "execution_count": null,
      "outputs": [
        {
          "output_type": "execute_result",
          "data": {
            "text/plain": [
              "         chr    start      end TargetGene  activity  hic_contact  ABC_Score  \\\n",
              "14568  chr17  7745395  7746637     CYB5D1   18.7281      44.0493     0.0835   \n",
              "14569  chr17  7746867  7747578     CYB5D1   10.9996      43.9974     0.0490   \n",
              "14570  chr17  7748001  7748501     CYB5D1    6.0968      43.9506     0.0271   \n",
              "14571  chr17  7754551  7755466     CYB5D1    3.2147     100.0000     0.0326   \n",
              "14572  chr17  7738357  7739545     CYB5D1   12.6029      28.5755     0.0365   \n",
              "14573  chr17  7739824  7740497     CYB5D1    5.3344      42.7917     0.0231   \n",
              "\n",
              "       Tissu               enhancer  \n",
              "14568  df_GM  chr17-7745395-7745659  \n",
              "14569  df_GM  chr17-7747275-7747370  \n",
              "14570  df_GM  chr17-7748058-7748465  \n",
              "14571  df_GM  chr17-7754551-7755466  \n",
              "14572  df_GM  chr17-7738685-7739154  \n",
              "14573  df_GM  chr17-7739965-7740465  "
            ],
            "text/html": [
              "\n",
              "  <div id=\"df-ed44e437-f474-4aeb-b3f2-05ff29ed524d\">\n",
              "    <div class=\"colab-df-container\">\n",
              "      <div>\n",
              "<style scoped>\n",
              "    .dataframe tbody tr th:only-of-type {\n",
              "        vertical-align: middle;\n",
              "    }\n",
              "\n",
              "    .dataframe tbody tr th {\n",
              "        vertical-align: top;\n",
              "    }\n",
              "\n",
              "    .dataframe thead th {\n",
              "        text-align: right;\n",
              "    }\n",
              "</style>\n",
              "<table border=\"1\" class=\"dataframe\">\n",
              "  <thead>\n",
              "    <tr style=\"text-align: right;\">\n",
              "      <th></th>\n",
              "      <th>chr</th>\n",
              "      <th>start</th>\n",
              "      <th>end</th>\n",
              "      <th>TargetGene</th>\n",
              "      <th>activity</th>\n",
              "      <th>hic_contact</th>\n",
              "      <th>ABC_Score</th>\n",
              "      <th>Tissu</th>\n",
              "      <th>enhancer</th>\n",
              "    </tr>\n",
              "  </thead>\n",
              "  <tbody>\n",
              "    <tr>\n",
              "      <th>14568</th>\n",
              "      <td>chr17</td>\n",
              "      <td>7745395</td>\n",
              "      <td>7746637</td>\n",
              "      <td>CYB5D1</td>\n",
              "      <td>18.7281</td>\n",
              "      <td>44.0493</td>\n",
              "      <td>0.0835</td>\n",
              "      <td>df_GM</td>\n",
              "      <td>chr17-7745395-7745659</td>\n",
              "    </tr>\n",
              "    <tr>\n",
              "      <th>14569</th>\n",
              "      <td>chr17</td>\n",
              "      <td>7746867</td>\n",
              "      <td>7747578</td>\n",
              "      <td>CYB5D1</td>\n",
              "      <td>10.9996</td>\n",
              "      <td>43.9974</td>\n",
              "      <td>0.0490</td>\n",
              "      <td>df_GM</td>\n",
              "      <td>chr17-7747275-7747370</td>\n",
              "    </tr>\n",
              "    <tr>\n",
              "      <th>14570</th>\n",
              "      <td>chr17</td>\n",
              "      <td>7748001</td>\n",
              "      <td>7748501</td>\n",
              "      <td>CYB5D1</td>\n",
              "      <td>6.0968</td>\n",
              "      <td>43.9506</td>\n",
              "      <td>0.0271</td>\n",
              "      <td>df_GM</td>\n",
              "      <td>chr17-7748058-7748465</td>\n",
              "    </tr>\n",
              "    <tr>\n",
              "      <th>14571</th>\n",
              "      <td>chr17</td>\n",
              "      <td>7754551</td>\n",
              "      <td>7755466</td>\n",
              "      <td>CYB5D1</td>\n",
              "      <td>3.2147</td>\n",
              "      <td>100.0000</td>\n",
              "      <td>0.0326</td>\n",
              "      <td>df_GM</td>\n",
              "      <td>chr17-7754551-7755466</td>\n",
              "    </tr>\n",
              "    <tr>\n",
              "      <th>14572</th>\n",
              "      <td>chr17</td>\n",
              "      <td>7738357</td>\n",
              "      <td>7739545</td>\n",
              "      <td>CYB5D1</td>\n",
              "      <td>12.6029</td>\n",
              "      <td>28.5755</td>\n",
              "      <td>0.0365</td>\n",
              "      <td>df_GM</td>\n",
              "      <td>chr17-7738685-7739154</td>\n",
              "    </tr>\n",
              "    <tr>\n",
              "      <th>14573</th>\n",
              "      <td>chr17</td>\n",
              "      <td>7739824</td>\n",
              "      <td>7740497</td>\n",
              "      <td>CYB5D1</td>\n",
              "      <td>5.3344</td>\n",
              "      <td>42.7917</td>\n",
              "      <td>0.0231</td>\n",
              "      <td>df_GM</td>\n",
              "      <td>chr17-7739965-7740465</td>\n",
              "    </tr>\n",
              "  </tbody>\n",
              "</table>\n",
              "</div>\n",
              "      <button class=\"colab-df-convert\" onclick=\"convertToInteractive('df-ed44e437-f474-4aeb-b3f2-05ff29ed524d')\"\n",
              "              title=\"Convert this dataframe to an interactive table.\"\n",
              "              style=\"display:none;\">\n",
              "        \n",
              "  <svg xmlns=\"http://www.w3.org/2000/svg\" height=\"24px\"viewBox=\"0 0 24 24\"\n",
              "       width=\"24px\">\n",
              "    <path d=\"M0 0h24v24H0V0z\" fill=\"none\"/>\n",
              "    <path d=\"M18.56 5.44l.94 2.06.94-2.06 2.06-.94-2.06-.94-.94-2.06-.94 2.06-2.06.94zm-11 1L8.5 8.5l.94-2.06 2.06-.94-2.06-.94L8.5 2.5l-.94 2.06-2.06.94zm10 10l.94 2.06.94-2.06 2.06-.94-2.06-.94-.94-2.06-.94 2.06-2.06.94z\"/><path d=\"M17.41 7.96l-1.37-1.37c-.4-.4-.92-.59-1.43-.59-.52 0-1.04.2-1.43.59L10.3 9.45l-7.72 7.72c-.78.78-.78 2.05 0 2.83L4 21.41c.39.39.9.59 1.41.59.51 0 1.02-.2 1.41-.59l7.78-7.78 2.81-2.81c.8-.78.8-2.07 0-2.86zM5.41 20L4 18.59l7.72-7.72 1.47 1.35L5.41 20z\"/>\n",
              "  </svg>\n",
              "      </button>\n",
              "      \n",
              "  <style>\n",
              "    .colab-df-container {\n",
              "      display:flex;\n",
              "      flex-wrap:wrap;\n",
              "      gap: 12px;\n",
              "    }\n",
              "\n",
              "    .colab-df-convert {\n",
              "      background-color: #E8F0FE;\n",
              "      border: none;\n",
              "      border-radius: 50%;\n",
              "      cursor: pointer;\n",
              "      display: none;\n",
              "      fill: #1967D2;\n",
              "      height: 32px;\n",
              "      padding: 0 0 0 0;\n",
              "      width: 32px;\n",
              "    }\n",
              "\n",
              "    .colab-df-convert:hover {\n",
              "      background-color: #E2EBFA;\n",
              "      box-shadow: 0px 1px 2px rgba(60, 64, 67, 0.3), 0px 1px 3px 1px rgba(60, 64, 67, 0.15);\n",
              "      fill: #174EA6;\n",
              "    }\n",
              "\n",
              "    [theme=dark] .colab-df-convert {\n",
              "      background-color: #3B4455;\n",
              "      fill: #D2E3FC;\n",
              "    }\n",
              "\n",
              "    [theme=dark] .colab-df-convert:hover {\n",
              "      background-color: #434B5C;\n",
              "      box-shadow: 0px 1px 3px 1px rgba(0, 0, 0, 0.15);\n",
              "      filter: drop-shadow(0px 1px 2px rgba(0, 0, 0, 0.3));\n",
              "      fill: #FFFFFF;\n",
              "    }\n",
              "  </style>\n",
              "\n",
              "      <script>\n",
              "        const buttonEl =\n",
              "          document.querySelector('#df-ed44e437-f474-4aeb-b3f2-05ff29ed524d button.colab-df-convert');\n",
              "        buttonEl.style.display =\n",
              "          google.colab.kernel.accessAllowed ? 'block' : 'none';\n",
              "\n",
              "        async function convertToInteractive(key) {\n",
              "          const element = document.querySelector('#df-ed44e437-f474-4aeb-b3f2-05ff29ed524d');\n",
              "          const dataTable =\n",
              "            await google.colab.kernel.invokeFunction('convertToInteractive',\n",
              "                                                     [key], {});\n",
              "          if (!dataTable) return;\n",
              "\n",
              "          const docLinkHtml = 'Like what you see? Visit the ' +\n",
              "            '<a target=\"_blank\" href=https://colab.research.google.com/notebooks/data_table.ipynb>data table notebook</a>'\n",
              "            + ' to learn more about interactive tables.';\n",
              "          element.innerHTML = '';\n",
              "          dataTable['output_type'] = 'display_data';\n",
              "          await google.colab.output.renderOutput(dataTable, element);\n",
              "          const docLink = document.createElement('div');\n",
              "          docLink.innerHTML = docLinkHtml;\n",
              "          element.appendChild(docLink);\n",
              "        }\n",
              "      </script>\n",
              "    </div>\n",
              "  </div>\n",
              "  "
            ]
          },
          "metadata": {},
          "execution_count": 25
        }
      ]
    },
    {
      "cell_type": "code",
      "source": [
        "df_K562.loc[df_K562['TargetGene'] == gene_list_intersection[1]]"
      ],
      "metadata": {
        "colab": {
          "base_uri": "https://localhost:8080/",
          "height": 281
        },
        "id": "S80k3kK8dZBV",
        "outputId": "6e413255-362b-44af-ebb3-1849e0d73b4e"
      },
      "execution_count": null,
      "outputs": [
        {
          "output_type": "execute_result",
          "data": {
            "text/plain": [
              "         chr    start      end TargetGene  activity  hic_contact  ABC_Score  \\\n",
              "50883  chr17  7744745  7746665     CYB5D1   19.9592      47.5588     0.1606   \n",
              "50884  chr17  7746785  7747625     CYB5D1    7.7110      47.5588     0.0620   \n",
              "50885  chr17  7747965  7748465     CYB5D1    4.8921      47.5588     0.0394   \n",
              "50886  chr17  7738685  7739185     CYB5D1    5.4112      26.0657     0.0239   \n",
              "50887  chr17  7739965  7740465     CYB5D1    5.2711      33.2507     0.0296   \n",
              "50888  chr17  7741385  7742285     CYB5D1    8.2525      33.2507     0.0464   \n",
              "\n",
              "         Tissu               enhancer  \n",
              "50883  df_K562  chr17-7745395-7745659  \n",
              "50884  df_K562  chr17-7747275-7747370  \n",
              "50885  df_K562  chr17-7748058-7748465  \n",
              "50886  df_K562  chr17-7738685-7739154  \n",
              "50887  df_K562  chr17-7739965-7740465  \n",
              "50888  df_K562  chr17-7741385-7742285  "
            ],
            "text/html": [
              "\n",
              "  <div id=\"df-1331e0d5-7688-4630-b882-f7848d57d133\">\n",
              "    <div class=\"colab-df-container\">\n",
              "      <div>\n",
              "<style scoped>\n",
              "    .dataframe tbody tr th:only-of-type {\n",
              "        vertical-align: middle;\n",
              "    }\n",
              "\n",
              "    .dataframe tbody tr th {\n",
              "        vertical-align: top;\n",
              "    }\n",
              "\n",
              "    .dataframe thead th {\n",
              "        text-align: right;\n",
              "    }\n",
              "</style>\n",
              "<table border=\"1\" class=\"dataframe\">\n",
              "  <thead>\n",
              "    <tr style=\"text-align: right;\">\n",
              "      <th></th>\n",
              "      <th>chr</th>\n",
              "      <th>start</th>\n",
              "      <th>end</th>\n",
              "      <th>TargetGene</th>\n",
              "      <th>activity</th>\n",
              "      <th>hic_contact</th>\n",
              "      <th>ABC_Score</th>\n",
              "      <th>Tissu</th>\n",
              "      <th>enhancer</th>\n",
              "    </tr>\n",
              "  </thead>\n",
              "  <tbody>\n",
              "    <tr>\n",
              "      <th>50883</th>\n",
              "      <td>chr17</td>\n",
              "      <td>7744745</td>\n",
              "      <td>7746665</td>\n",
              "      <td>CYB5D1</td>\n",
              "      <td>19.9592</td>\n",
              "      <td>47.5588</td>\n",
              "      <td>0.1606</td>\n",
              "      <td>df_K562</td>\n",
              "      <td>chr17-7745395-7745659</td>\n",
              "    </tr>\n",
              "    <tr>\n",
              "      <th>50884</th>\n",
              "      <td>chr17</td>\n",
              "      <td>7746785</td>\n",
              "      <td>7747625</td>\n",
              "      <td>CYB5D1</td>\n",
              "      <td>7.7110</td>\n",
              "      <td>47.5588</td>\n",
              "      <td>0.0620</td>\n",
              "      <td>df_K562</td>\n",
              "      <td>chr17-7747275-7747370</td>\n",
              "    </tr>\n",
              "    <tr>\n",
              "      <th>50885</th>\n",
              "      <td>chr17</td>\n",
              "      <td>7747965</td>\n",
              "      <td>7748465</td>\n",
              "      <td>CYB5D1</td>\n",
              "      <td>4.8921</td>\n",
              "      <td>47.5588</td>\n",
              "      <td>0.0394</td>\n",
              "      <td>df_K562</td>\n",
              "      <td>chr17-7748058-7748465</td>\n",
              "    </tr>\n",
              "    <tr>\n",
              "      <th>50886</th>\n",
              "      <td>chr17</td>\n",
              "      <td>7738685</td>\n",
              "      <td>7739185</td>\n",
              "      <td>CYB5D1</td>\n",
              "      <td>5.4112</td>\n",
              "      <td>26.0657</td>\n",
              "      <td>0.0239</td>\n",
              "      <td>df_K562</td>\n",
              "      <td>chr17-7738685-7739154</td>\n",
              "    </tr>\n",
              "    <tr>\n",
              "      <th>50887</th>\n",
              "      <td>chr17</td>\n",
              "      <td>7739965</td>\n",
              "      <td>7740465</td>\n",
              "      <td>CYB5D1</td>\n",
              "      <td>5.2711</td>\n",
              "      <td>33.2507</td>\n",
              "      <td>0.0296</td>\n",
              "      <td>df_K562</td>\n",
              "      <td>chr17-7739965-7740465</td>\n",
              "    </tr>\n",
              "    <tr>\n",
              "      <th>50888</th>\n",
              "      <td>chr17</td>\n",
              "      <td>7741385</td>\n",
              "      <td>7742285</td>\n",
              "      <td>CYB5D1</td>\n",
              "      <td>8.2525</td>\n",
              "      <td>33.2507</td>\n",
              "      <td>0.0464</td>\n",
              "      <td>df_K562</td>\n",
              "      <td>chr17-7741385-7742285</td>\n",
              "    </tr>\n",
              "  </tbody>\n",
              "</table>\n",
              "</div>\n",
              "      <button class=\"colab-df-convert\" onclick=\"convertToInteractive('df-1331e0d5-7688-4630-b882-f7848d57d133')\"\n",
              "              title=\"Convert this dataframe to an interactive table.\"\n",
              "              style=\"display:none;\">\n",
              "        \n",
              "  <svg xmlns=\"http://www.w3.org/2000/svg\" height=\"24px\"viewBox=\"0 0 24 24\"\n",
              "       width=\"24px\">\n",
              "    <path d=\"M0 0h24v24H0V0z\" fill=\"none\"/>\n",
              "    <path d=\"M18.56 5.44l.94 2.06.94-2.06 2.06-.94-2.06-.94-.94-2.06-.94 2.06-2.06.94zm-11 1L8.5 8.5l.94-2.06 2.06-.94-2.06-.94L8.5 2.5l-.94 2.06-2.06.94zm10 10l.94 2.06.94-2.06 2.06-.94-2.06-.94-.94-2.06-.94 2.06-2.06.94z\"/><path d=\"M17.41 7.96l-1.37-1.37c-.4-.4-.92-.59-1.43-.59-.52 0-1.04.2-1.43.59L10.3 9.45l-7.72 7.72c-.78.78-.78 2.05 0 2.83L4 21.41c.39.39.9.59 1.41.59.51 0 1.02-.2 1.41-.59l7.78-7.78 2.81-2.81c.8-.78.8-2.07 0-2.86zM5.41 20L4 18.59l7.72-7.72 1.47 1.35L5.41 20z\"/>\n",
              "  </svg>\n",
              "      </button>\n",
              "      \n",
              "  <style>\n",
              "    .colab-df-container {\n",
              "      display:flex;\n",
              "      flex-wrap:wrap;\n",
              "      gap: 12px;\n",
              "    }\n",
              "\n",
              "    .colab-df-convert {\n",
              "      background-color: #E8F0FE;\n",
              "      border: none;\n",
              "      border-radius: 50%;\n",
              "      cursor: pointer;\n",
              "      display: none;\n",
              "      fill: #1967D2;\n",
              "      height: 32px;\n",
              "      padding: 0 0 0 0;\n",
              "      width: 32px;\n",
              "    }\n",
              "\n",
              "    .colab-df-convert:hover {\n",
              "      background-color: #E2EBFA;\n",
              "      box-shadow: 0px 1px 2px rgba(60, 64, 67, 0.3), 0px 1px 3px 1px rgba(60, 64, 67, 0.15);\n",
              "      fill: #174EA6;\n",
              "    }\n",
              "\n",
              "    [theme=dark] .colab-df-convert {\n",
              "      background-color: #3B4455;\n",
              "      fill: #D2E3FC;\n",
              "    }\n",
              "\n",
              "    [theme=dark] .colab-df-convert:hover {\n",
              "      background-color: #434B5C;\n",
              "      box-shadow: 0px 1px 3px 1px rgba(0, 0, 0, 0.15);\n",
              "      filter: drop-shadow(0px 1px 2px rgba(0, 0, 0, 0.3));\n",
              "      fill: #FFFFFF;\n",
              "    }\n",
              "  </style>\n",
              "\n",
              "      <script>\n",
              "        const buttonEl =\n",
              "          document.querySelector('#df-1331e0d5-7688-4630-b882-f7848d57d133 button.colab-df-convert');\n",
              "        buttonEl.style.display =\n",
              "          google.colab.kernel.accessAllowed ? 'block' : 'none';\n",
              "\n",
              "        async function convertToInteractive(key) {\n",
              "          const element = document.querySelector('#df-1331e0d5-7688-4630-b882-f7848d57d133');\n",
              "          const dataTable =\n",
              "            await google.colab.kernel.invokeFunction('convertToInteractive',\n",
              "                                                     [key], {});\n",
              "          if (!dataTable) return;\n",
              "\n",
              "          const docLinkHtml = 'Like what you see? Visit the ' +\n",
              "            '<a target=\"_blank\" href=https://colab.research.google.com/notebooks/data_table.ipynb>data table notebook</a>'\n",
              "            + ' to learn more about interactive tables.';\n",
              "          element.innerHTML = '';\n",
              "          dataTable['output_type'] = 'display_data';\n",
              "          await google.colab.output.renderOutput(dataTable, element);\n",
              "          const docLink = document.createElement('div');\n",
              "          docLink.innerHTML = docLinkHtml;\n",
              "          element.appendChild(docLink);\n",
              "        }\n",
              "      </script>\n",
              "    </div>\n",
              "  </div>\n",
              "  "
            ]
          },
          "metadata": {},
          "execution_count": 26
        }
      ]
    },
    {
      "cell_type": "code",
      "source": [
        "enhancer_list_intersection"
      ],
      "metadata": {
        "id": "0g9z5ZEXcfrG",
        "colab": {
          "base_uri": "https://localhost:8080/"
        },
        "outputId": "3ce9c7b1-c8ca-4218-a29f-d1ac032a88ef"
      },
      "execution_count": null,
      "outputs": [
        {
          "output_type": "execute_result",
          "data": {
            "text/plain": [
              "['chr17-7739965-7740465',\n",
              " 'chr17-7747275-7747370',\n",
              " 'chr17-7738685-7739154',\n",
              " 'chr17-7745395-7745659',\n",
              " 'chr17-7748058-7748465']"
            ]
          },
          "metadata": {},
          "execution_count": 27
        }
      ]
    },
    {
      "cell_type": "markdown",
      "source": [
        "FULL CORRECT on est bon!"
      ],
      "metadata": {
        "id": "kAWIN3hJd1n0"
      }
    },
    {
      "cell_type": "markdown",
      "source": [
        "## Networkx Limitation and solving"
      ],
      "metadata": {
        "id": "5BvfTQ9YdkUl"
      }
    },
    {
      "cell_type": "markdown",
      "source": [
        "Networkx garde les genes dans les CRH qui sont connecte au meme enhancer, mais les isoles dans les dessins si ils sont pas dans l'autre database"
      ],
      "metadata": {
        "id": "XfGTWfa3ibkB"
      }
    },
    {
      "cell_type": "code",
      "source": [
        "S_selection = [s for s in S if (len(s.nodes)) > 6]"
      ],
      "metadata": {
        "id": "po5nRtw8f3DV"
      },
      "execution_count": null,
      "outputs": []
    },
    {
      "cell_type": "code",
      "source": [
        "draw(S_selection[8],True)\n"
      ],
      "metadata": {
        "id": "HvU_MfDPgCd5",
        "colab": {
          "base_uri": "https://localhost:8080/",
          "height": 391
        },
        "outputId": "e2ff092e-dbbd-4226-da08-aff7f971db0d"
      },
      "execution_count": null,
      "outputs": [
        {
          "output_type": "display_data",
          "data": {
            "text/plain": [
              "<Figure size 360x360 with 1 Axes>"
            ],
            "image/png": "[encoded data removed]"
          },
          "metadata": {}
        }
      ]
    },
    {
      "cell_type": "code",
      "source": [
        "gene_list_GM = list(df_GM['TargetGene'])\n",
        "enhancer_list_GM = list(df_GM['enhancer'])\n",
        "\n",
        "gene_list_K562 = list(df_K562['TargetGene'])\n",
        "enhancer_list_K562 = list(df_K562['enhancer'])\n",
        "\n",
        "gene_list_intersection = [gene for gene in list(S_selection[8].nodes()) if 'chr' not in gene]\n",
        "enhancer_list_intersection = [enhancer for enhancer in list(S_selection[8].nodes()) if 'chr' in enhancer]"
      ],
      "metadata": {
        "id": "IbjUXGYAgHCG"
      },
      "execution_count": null,
      "outputs": []
    },
    {
      "cell_type": "markdown",
      "source": [
        "Ci-dessous on voit que Pole2, LRR1 et RPS29 ne sont pas en commun dans les deux tissus, mais ont un des enhancers communs. Ils sont donc separes. "
      ],
      "metadata": {
        "id": "sYSzozj5i7Ub"
      }
    },
    {
      "cell_type": "code",
      "source": [
        "df_GM.loc[(df_GM['TargetGene'].isin(gene_list_intersection)) &\n",
        "          (df_GM['enhancer'].isin(enhancer_list_intersection))]"
      ],
      "metadata": {
        "id": "bc6mI7V3g6cm",
        "colab": {
          "base_uri": "https://localhost:8080/",
          "height": 425
        },
        "outputId": "9e528359-910b-44fc-9b3a-cec22c8118b6"
      },
      "execution_count": null,
      "outputs": [
        {
          "output_type": "execute_result",
          "data": {
            "text/plain": [
              "      chr     start       end TargetGene  activity  hic_contact  ABC_Score  \\\n",
              "456  chr1  17230631  17232160      NBPF1   28.4784      12.6076     0.0867   \n",
              "457  chr1  17221944  17223622      NBPF1    8.8388      13.9849     0.0299   \n",
              "458  chr1  16947445  16948230      NBPF1    2.1848     100.0000     0.0528   \n",
              "459  chr1  17230631  17232160    CROCCP2   28.4784      13.4535     0.0776   \n",
              "460  chr1  17221944  17223622    CROCCP2    8.8388      20.9137     0.0375   \n",
              "461  chr1  16947445  16948230    CROCCP2    2.1848      55.9358     0.0248   \n",
              "464  chr1  17230631  17232160      CROCC   28.4784      19.6181     0.3457   \n",
              "465  chr1  17221944  17223622      CROCC    8.8388       9.3730     0.0513   \n",
              "467  chr1  17230631  17232160    ATP13A2   28.4784       8.8369     0.1191   \n",
              "472  chr1  17230631  17232160       SDHB   28.4784       5.5177     0.0665   \n",
              "473  chr1  17221944  17223622       SDHB    8.8388       7.4795     0.0280   \n",
              "475  chr1  17230631  17232160       RCC2   28.4784       2.3417     0.0284   \n",
              "\n",
              "     Tissu                enhancer  \n",
              "456  df_GM  chr1-17231323-17231815  \n",
              "457  df_GM  chr1-17222527-17222927  \n",
              "458  df_GM  chr1-16947445-16947925  \n",
              "459  df_GM  chr1-17231323-17231815  \n",
              "460  df_GM  chr1-17222527-17222927  \n",
              "461  df_GM  chr1-16947445-16947925  \n",
              "464  df_GM  chr1-17231323-17231815  \n",
              "465  df_GM  chr1-17222527-17222927  \n",
              "467  df_GM  chr1-17231323-17231815  \n",
              "472  df_GM  chr1-17231323-17231815  \n",
              "473  df_GM  chr1-17222527-17222927  \n",
              "475  df_GM  chr1-17231323-17231815  "
            ],
            "text/html": [
              "\n",
              "  <div id=\"df-d1b7c992-ee5a-4276-bfca-fe9041783b66\">\n",
              "    <div class=\"colab-df-container\">\n",
              "      <div>\n",
              "<style scoped>\n",
              "    .dataframe tbody tr th:only-of-type {\n",
              "        vertical-align: middle;\n",
              "    }\n",
              "\n",
              "    .dataframe tbody tr th {\n",
              "        vertical-align: top;\n",
              "    }\n",
              "\n",
              "    .dataframe thead th {\n",
              "        text-align: right;\n",
              "    }\n",
              "</style>\n",
              "<table border=\"1\" class=\"dataframe\">\n",
              "  <thead>\n",
              "    <tr style=\"text-align: right;\">\n",
              "      <th></th>\n",
              "      <th>chr</th>\n",
              "      <th>start</th>\n",
              "      <th>end</th>\n",
              "      <th>TargetGene</th>\n",
              "      <th>activity</th>\n",
              "      <th>hic_contact</th>\n",
              "      <th>ABC_Score</th>\n",
              "      <th>Tissu</th>\n",
              "      <th>enhancer</th>\n",
              "    </tr>\n",
              "  </thead>\n",
              "  <tbody>\n",
              "    <tr>\n",
              "      <th>456</th>\n",
              "      <td>chr1</td>\n",
              "      <td>17230631</td>\n",
              "      <td>17232160</td>\n",
              "      <td>NBPF1</td>\n",
              "      <td>28.4784</td>\n",
              "      <td>12.6076</td>\n",
              "      <td>0.0867</td>\n",
              "      <td>df_GM</td>\n",
              "      <td>chr1-17231323-17231815</td>\n",
              "    </tr>\n",
              "    <tr>\n",
              "      <th>457</th>\n",
              "      <td>chr1</td>\n",
              "      <td>17221944</td>\n",
              "      <td>17223622</td>\n",
              "      <td>NBPF1</td>\n",
              "      <td>8.8388</td>\n",
              "      <td>13.9849</td>\n",
              "      <td>0.0299</td>\n",
              "      <td>df_GM</td>\n",
              "      <td>chr1-17222527-17222927</td>\n",
              "    </tr>\n",
              "    <tr>\n",
              "      <th>458</th>\n",
              "      <td>chr1</td>\n",
              "      <td>16947445</td>\n",
              "      <td>16948230</td>\n",
              "      <td>NBPF1</td>\n",
              "      <td>2.1848</td>\n",
              "      <td>100.0000</td>\n",
              "      <td>0.0528</td>\n",
              "      <td>df_GM</td>\n",
              "      <td>chr1-16947445-16947925</td>\n",
              "    </tr>\n",
              "    <tr>\n",
              "      <th>459</th>\n",
              "      <td>chr1</td>\n",
              "      <td>17230631</td>\n",
              "      <td>17232160</td>\n",
              "      <td>CROCCP2</td>\n",
              "      <td>28.4784</td>\n",
              "      <td>13.4535</td>\n",
              "      <td>0.0776</td>\n",
              "      <td>df_GM</td>\n",
              "      <td>chr1-17231323-17231815</td>\n",
              "    </tr>\n",
              "    <tr>\n",
              "      <th>460</th>\n",
              "      <td>chr1</td>\n",
              "      <td>17221944</td>\n",
              "      <td>17223622</td>\n",
              "      <td>CROCCP2</td>\n",
              "      <td>8.8388</td>\n",
              "      <td>20.9137</td>\n",
              "      <td>0.0375</td>\n",
              "      <td>df_GM</td>\n",
              "      <td>chr1-17222527-17222927</td>\n",
              "    </tr>\n",
              "    <tr>\n",
              "      <th>461</th>\n",
              "      <td>chr1</td>\n",
              "      <td>16947445</td>\n",
              "      <td>16948230</td>\n",
              "      <td>CROCCP2</td>\n",
              "      <td>2.1848</td>\n",
              "      <td>55.9358</td>\n",
              "      <td>0.0248</td>\n",
              "      <td>df_GM</td>\n",
              "      <td>chr1-16947445-16947925</td>\n",
              "    </tr>\n",
              "    <tr>\n",
              "      <th>464</th>\n",
              "      <td>chr1</td>\n",
              "      <td>17230631</td>\n",
              "      <td>17232160</td>\n",
              "      <td>CROCC</td>\n",
              "      <td>28.4784</td>\n",
              "      <td>19.6181</td>\n",
              "      <td>0.3457</td>\n",
              "      <td>df_GM</td>\n",
              "      <td>chr1-17231323-17231815</td>\n",
              "    </tr>\n",
              "    <tr>\n",
              "      <th>465</th>\n",
              "      <td>chr1</td>\n",
              "      <td>17221944</td>\n",
              "      <td>17223622</td>\n",
              "      <td>CROCC</td>\n",
              "      <td>8.8388</td>\n",
              "      <td>9.3730</td>\n",
              "      <td>0.0513</td>\n",
              "      <td>df_GM</td>\n",
              "      <td>chr1-17222527-17222927</td>\n",
              "    </tr>\n",
              "    <tr>\n",
              "      <th>467</th>\n",
              "      <td>chr1</td>\n",
              "      <td>17230631</td>\n",
              "      <td>17232160</td>\n",
              "      <td>ATP13A2</td>\n",
              "      <td>28.4784</td>\n",
              "      <td>8.8369</td>\n",
              "      <td>0.1191</td>\n",
              "      <td>df_GM</td>\n",
              "      <td>chr1-17231323-17231815</td>\n",
              "    </tr>\n",
              "    <tr>\n",
              "      <th>472</th>\n",
              "      <td>chr1</td>\n",
              "      <td>17230631</td>\n",
              "      <td>17232160</td>\n",
              "      <td>SDHB</td>\n",
              "      <td>28.4784</td>\n",
              "      <td>5.5177</td>\n",
              "      <td>0.0665</td>\n",
              "      <td>df_GM</td>\n",
              "      <td>chr1-17231323-17231815</td>\n",
              "    </tr>\n",
              "    <tr>\n",
              "      <th>473</th>\n",
              "      <td>chr1</td>\n",
              "      <td>17221944</td>\n",
              "      <td>17223622</td>\n",
              "      <td>SDHB</td>\n",
              "      <td>8.8388</td>\n",
              "      <td>7.4795</td>\n",
              "      <td>0.0280</td>\n",
              "      <td>df_GM</td>\n",
              "      <td>chr1-17222527-17222927</td>\n",
              "    </tr>\n",
              "    <tr>\n",
              "      <th>475</th>\n",
              "      <td>chr1</td>\n",
              "      <td>17230631</td>\n",
              "      <td>17232160</td>\n",
              "      <td>RCC2</td>\n",
              "      <td>28.4784</td>\n",
              "      <td>2.3417</td>\n",
              "      <td>0.0284</td>\n",
              "      <td>df_GM</td>\n",
              "      <td>chr1-17231323-17231815</td>\n",
              "    </tr>\n",
              "  </tbody>\n",
              "</table>\n",
              "</div>\n",
              "      <button class=\"colab-df-convert\" onclick=\"convertToInteractive('df-d1b7c992-ee5a-4276-bfca-fe9041783b66')\"\n",
              "              title=\"Convert this dataframe to an interactive table.\"\n",
              "              style=\"display:none;\">\n",
              "        \n",
              "  <svg xmlns=\"http://www.w3.org/2000/svg\" height=\"24px\"viewBox=\"0 0 24 24\"\n",
              "       width=\"24px\">\n",
              "    <path d=\"M0 0h24v24H0V0z\" fill=\"none\"/>\n",
              "    <path d=\"M18.56 5.44l.94 2.06.94-2.06 2.06-.94-2.06-.94-.94-2.06-.94 2.06-2.06.94zm-11 1L8.5 8.5l.94-2.06 2.06-.94-2.06-.94L8.5 2.5l-.94 2.06-2.06.94zm10 10l.94 2.06.94-2.06 2.06-.94-2.06-.94-.94-2.06-.94 2.06-2.06.94z\"/><path d=\"M17.41 7.96l-1.37-1.37c-.4-.4-.92-.59-1.43-.59-.52 0-1.04.2-1.43.59L10.3 9.45l-7.72 7.72c-.78.78-.78 2.05 0 2.83L4 21.41c.39.39.9.59 1.41.59.51 0 1.02-.2 1.41-.59l7.78-7.78 2.81-2.81c.8-.78.8-2.07 0-2.86zM5.41 20L4 18.59l7.72-7.72 1.47 1.35L5.41 20z\"/>\n",
              "  </svg>\n",
              "      </button>\n",
              "      \n",
              "  <style>\n",
              "    .colab-df-container {\n",
              "      display:flex;\n",
              "      flex-wrap:wrap;\n",
              "      gap: 12px;\n",
              "    }\n",
              "\n",
              "    .colab-df-convert {\n",
              "      background-color: #E8F0FE;\n",
              "      border: none;\n",
              "      border-radius: 50%;\n",
              "      cursor: pointer;\n",
              "      display: none;\n",
              "      fill: #1967D2;\n",
              "      height: 32px;\n",
              "      padding: 0 0 0 0;\n",
              "      width: 32px;\n",
              "    }\n",
              "\n",
              "    .colab-df-convert:hover {\n",
              "      background-color: #E2EBFA;\n",
              "      box-shadow: 0px 1px 2px rgba(60, 64, 67, 0.3), 0px 1px 3px 1px rgba(60, 64, 67, 0.15);\n",
              "      fill: #174EA6;\n",
              "    }\n",
              "\n",
              "    [theme=dark] .colab-df-convert {\n",
              "      background-color: #3B4455;\n",
              "      fill: #D2E3FC;\n",
              "    }\n",
              "\n",
              "    [theme=dark] .colab-df-convert:hover {\n",
              "      background-color: #434B5C;\n",
              "      box-shadow: 0px 1px 3px 1px rgba(0, 0, 0, 0.15);\n",
              "      filter: drop-shadow(0px 1px 2px rgba(0, 0, 0, 0.3));\n",
              "      fill: #FFFFFF;\n",
              "    }\n",
              "  </style>\n",
              "\n",
              "      <script>\n",
              "        const buttonEl =\n",
              "          document.querySelector('#df-d1b7c992-ee5a-4276-bfca-fe9041783b66 button.colab-df-convert');\n",
              "        buttonEl.style.display =\n",
              "          google.colab.kernel.accessAllowed ? 'block' : 'none';\n",
              "\n",
              "        async function convertToInteractive(key) {\n",
              "          const element = document.querySelector('#df-d1b7c992-ee5a-4276-bfca-fe9041783b66');\n",
              "          const dataTable =\n",
              "            await google.colab.kernel.invokeFunction('convertToInteractive',\n",
              "                                                     [key], {});\n",
              "          if (!dataTable) return;\n",
              "\n",
              "          const docLinkHtml = 'Like what you see? Visit the ' +\n",
              "            '<a target=\"_blank\" href=https://colab.research.google.com/notebooks/data_table.ipynb>data table notebook</a>'\n",
              "            + ' to learn more about interactive tables.';\n",
              "          element.innerHTML = '';\n",
              "          dataTable['output_type'] = 'display_data';\n",
              "          await google.colab.output.renderOutput(dataTable, element);\n",
              "          const docLink = document.createElement('div');\n",
              "          docLink.innerHTML = docLinkHtml;\n",
              "          element.appendChild(docLink);\n",
              "        }\n",
              "      </script>\n",
              "    </div>\n",
              "  </div>\n",
              "  "
            ]
          },
          "metadata": {},
          "execution_count": 31
        }
      ]
    },
    {
      "cell_type": "code",
      "source": [
        "df_K562.loc[(df_K562['TargetGene'].isin(gene_list_intersection)) &\n",
        "          (df_K562['enhancer'].isin(enhancer_list_intersection))]"
      ],
      "metadata": {
        "id": "hpdjM8gbhGPf",
        "colab": {
          "base_uri": "https://localhost:8080/",
          "height": 469
        },
        "outputId": "c3eb4f01-cd75-4c44-ae21-f8dee00ae748"
      },
      "execution_count": null,
      "outputs": [
        {
          "output_type": "execute_result",
          "data": {
            "text/plain": [
              "        chr     start       end TargetGene  activity  hic_contact  ABC_Score  \\\n",
              "37391  chr1  16947425  16947925      NBPF1    5.7123     100.0000     0.0590   \n",
              "37395  chr1  17222465  17223645      NBPF1   13.1158      23.1675     0.0314   \n",
              "37396  chr1  17229405  17232125      NBPF1   54.9890      15.3287     0.0871   \n",
              "37399  chr1  16947425  16947925    CROCCP2    5.7123      56.0621     0.0430   \n",
              "37401  chr1  17222465  17223645    CROCCP2   13.1158      17.5469     0.0309   \n",
              "37402  chr1  17229405  17232125    CROCCP2   54.9890      11.7791     0.0869   \n",
              "37405  chr1  17222465  17223645      CROCC   13.1158      18.2091     0.0687   \n",
              "37406  chr1  17229405  17232125      CROCC   54.9890      23.1266     0.3659   \n",
              "37410  chr1  17229405  17232125    ATP13A2   54.9890       7.7265     0.1437   \n",
              "37413  chr1  17222465  17223645       SDHB   13.1158       6.5379     0.0248   \n",
              "37414  chr1  17229405  17232125       SDHB   54.9890       8.4695     0.1345   \n",
              "37417  chr1  17229405  17232125       RCC2   54.9890       3.0869     0.0460   \n",
              "\n",
              "         Tissu                enhancer  \n",
              "37391  df_K562  chr1-16947445-16947925  \n",
              "37395  df_K562  chr1-17222527-17222927  \n",
              "37396  df_K562  chr1-17231323-17231815  \n",
              "37399  df_K562  chr1-16947445-16947925  \n",
              "37401  df_K562  chr1-17222527-17222927  \n",
              "37402  df_K562  chr1-17231323-17231815  \n",
              "37405  df_K562  chr1-17222527-17222927  \n",
              "37406  df_K562  chr1-17231323-17231815  \n",
              "37410  df_K562  chr1-17231323-17231815  \n",
              "37413  df_K562  chr1-17222527-17222927  \n",
              "37414  df_K562  chr1-17231323-17231815  \n",
              "37417  df_K562  chr1-17231323-17231815  "
            ],
            "text/html": [
              "\n",
              "  <div id=\"df-99845762-ae86-4fe0-a392-e45c4f75709b\">\n",
              "    <div class=\"colab-df-container\">\n",
              "      <div>\n",
              "<style scoped>\n",
              "    .dataframe tbody tr th:only-of-type {\n",
              "        vertical-align: middle;\n",
              "    }\n",
              "\n",
              "    .dataframe tbody tr th {\n",
              "        vertical-align: top;\n",
              "    }\n",
              "\n",
              "    .dataframe thead th {\n",
              "        text-align: right;\n",
              "    }\n",
              "</style>\n",
              "<table border=\"1\" class=\"dataframe\">\n",
              "  <thead>\n",
              "    <tr style=\"text-align: right;\">\n",
              "      <th></th>\n",
              "      <th>chr</th>\n",
              "      <th>start</th>\n",
              "      <th>end</th>\n",
              "      <th>TargetGene</th>\n",
              "      <th>activity</th>\n",
              "      <th>hic_contact</th>\n",
              "      <th>ABC_Score</th>\n",
              "      <th>Tissu</th>\n",
              "      <th>enhancer</th>\n",
              "    </tr>\n",
              "  </thead>\n",
              "  <tbody>\n",
              "    <tr>\n",
              "      <th>37391</th>\n",
              "      <td>chr1</td>\n",
              "      <td>16947425</td>\n",
              "      <td>16947925</td>\n",
              "      <td>NBPF1</td>\n",
              "      <td>5.7123</td>\n",
              "      <td>100.0000</td>\n",
              "      <td>0.0590</td>\n",
              "      <td>df_K562</td>\n",
              "      <td>chr1-16947445-16947925</td>\n",
              "    </tr>\n",
              "    <tr>\n",
              "      <th>37395</th>\n",
              "      <td>chr1</td>\n",
              "      <td>17222465</td>\n",
              "      <td>17223645</td>\n",
              "      <td>NBPF1</td>\n",
              "      <td>13.1158</td>\n",
              "      <td>23.1675</td>\n",
              "      <td>0.0314</td>\n",
              "      <td>df_K562</td>\n",
              "      <td>chr1-17222527-17222927</td>\n",
              "    </tr>\n",
              "    <tr>\n",
              "      <th>37396</th>\n",
              "      <td>chr1</td>\n",
              "      <td>17229405</td>\n",
              "      <td>17232125</td>\n",
              "      <td>NBPF1</td>\n",
              "      <td>54.9890</td>\n",
              "      <td>15.3287</td>\n",
              "      <td>0.0871</td>\n",
              "      <td>df_K562</td>\n",
              "      <td>chr1-17231323-17231815</td>\n",
              "    </tr>\n",
              "    <tr>\n",
              "      <th>37399</th>\n",
              "      <td>chr1</td>\n",
              "      <td>16947425</td>\n",
              "      <td>16947925</td>\n",
              "      <td>CROCCP2</td>\n",
              "      <td>5.7123</td>\n",
              "      <td>56.0621</td>\n",
              "      <td>0.0430</td>\n",
              "      <td>df_K562</td>\n",
              "      <td>chr1-16947445-16947925</td>\n",
              "    </tr>\n",
              "    <tr>\n",
              "      <th>37401</th>\n",
              "      <td>chr1</td>\n",
              "      <td>17222465</td>\n",
              "      <td>17223645</td>\n",
              "      <td>CROCCP2</td>\n",
              "      <td>13.1158</td>\n",
              "      <td>17.5469</td>\n",
              "      <td>0.0309</td>\n",
              "      <td>df_K562</td>\n",
              "      <td>chr1-17222527-17222927</td>\n",
              "    </tr>\n",
              "    <tr>\n",
              "      <th>37402</th>\n",
              "      <td>chr1</td>\n",
              "      <td>17229405</td>\n",
              "      <td>17232125</td>\n",
              "      <td>CROCCP2</td>\n",
              "      <td>54.9890</td>\n",
              "      <td>11.7791</td>\n",
              "      <td>0.0869</td>\n",
              "      <td>df_K562</td>\n",
              "      <td>chr1-17231323-17231815</td>\n",
              "    </tr>\n",
              "    <tr>\n",
              "      <th>37405</th>\n",
              "      <td>chr1</td>\n",
              "      <td>17222465</td>\n",
              "      <td>17223645</td>\n",
              "      <td>CROCC</td>\n",
              "      <td>13.1158</td>\n",
              "      <td>18.2091</td>\n",
              "      <td>0.0687</td>\n",
              "      <td>df_K562</td>\n",
              "      <td>chr1-17222527-17222927</td>\n",
              "    </tr>\n",
              "    <tr>\n",
              "      <th>37406</th>\n",
              "      <td>chr1</td>\n",
              "      <td>17229405</td>\n",
              "      <td>17232125</td>\n",
              "      <td>CROCC</td>\n",
              "      <td>54.9890</td>\n",
              "      <td>23.1266</td>\n",
              "      <td>0.3659</td>\n",
              "      <td>df_K562</td>\n",
              "      <td>chr1-17231323-17231815</td>\n",
              "    </tr>\n",
              "    <tr>\n",
              "      <th>37410</th>\n",
              "      <td>chr1</td>\n",
              "      <td>17229405</td>\n",
              "      <td>17232125</td>\n",
              "      <td>ATP13A2</td>\n",
              "      <td>54.9890</td>\n",
              "      <td>7.7265</td>\n",
              "      <td>0.1437</td>\n",
              "      <td>df_K562</td>\n",
              "      <td>chr1-17231323-17231815</td>\n",
              "    </tr>\n",
              "    <tr>\n",
              "      <th>37413</th>\n",
              "      <td>chr1</td>\n",
              "      <td>17222465</td>\n",
              "      <td>17223645</td>\n",
              "      <td>SDHB</td>\n",
              "      <td>13.1158</td>\n",
              "      <td>6.5379</td>\n",
              "      <td>0.0248</td>\n",
              "      <td>df_K562</td>\n",
              "      <td>chr1-17222527-17222927</td>\n",
              "    </tr>\n",
              "    <tr>\n",
              "      <th>37414</th>\n",
              "      <td>chr1</td>\n",
              "      <td>17229405</td>\n",
              "      <td>17232125</td>\n",
              "      <td>SDHB</td>\n",
              "      <td>54.9890</td>\n",
              "      <td>8.4695</td>\n",
              "      <td>0.1345</td>\n",
              "      <td>df_K562</td>\n",
              "      <td>chr1-17231323-17231815</td>\n",
              "    </tr>\n",
              "    <tr>\n",
              "      <th>37417</th>\n",
              "      <td>chr1</td>\n",
              "      <td>17229405</td>\n",
              "      <td>17232125</td>\n",
              "      <td>RCC2</td>\n",
              "      <td>54.9890</td>\n",
              "      <td>3.0869</td>\n",
              "      <td>0.0460</td>\n",
              "      <td>df_K562</td>\n",
              "      <td>chr1-17231323-17231815</td>\n",
              "    </tr>\n",
              "  </tbody>\n",
              "</table>\n",
              "</div>\n",
              "      <button class=\"colab-df-convert\" onclick=\"convertToInteractive('df-99845762-ae86-4fe0-a392-e45c4f75709b')\"\n",
              "              title=\"Convert this dataframe to an interactive table.\"\n",
              "              style=\"display:none;\">\n",
              "        \n",
              "  <svg xmlns=\"http://www.w3.org/2000/svg\" height=\"24px\"viewBox=\"0 0 24 24\"\n",
              "       width=\"24px\">\n",
              "    <path d=\"M0 0h24v24H0V0z\" fill=\"none\"/>\n",
              "    <path d=\"M18.56 5.44l.94 2.06.94-2.06 2.06-.94-2.06-.94-.94-2.06-.94 2.06-2.06.94zm-11 1L8.5 8.5l.94-2.06 2.06-.94-2.06-.94L8.5 2.5l-.94 2.06-2.06.94zm10 10l.94 2.06.94-2.06 2.06-.94-2.06-.94-.94-2.06-.94 2.06-2.06.94z\"/><path d=\"M17.41 7.96l-1.37-1.37c-.4-.4-.92-.59-1.43-.59-.52 0-1.04.2-1.43.59L10.3 9.45l-7.72 7.72c-.78.78-.78 2.05 0 2.83L4 21.41c.39.39.9.59 1.41.59.51 0 1.02-.2 1.41-.59l7.78-7.78 2.81-2.81c.8-.78.8-2.07 0-2.86zM5.41 20L4 18.59l7.72-7.72 1.47 1.35L5.41 20z\"/>\n",
              "  </svg>\n",
              "      </button>\n",
              "      \n",
              "  <style>\n",
              "    .colab-df-container {\n",
              "      display:flex;\n",
              "      flex-wrap:wrap;\n",
              "      gap: 12px;\n",
              "    }\n",
              "\n",
              "    .colab-df-convert {\n",
              "      background-color: #E8F0FE;\n",
              "      border: none;\n",
              "      border-radius: 50%;\n",
              "      cursor: pointer;\n",
              "      display: none;\n",
              "      fill: #1967D2;\n",
              "      height: 32px;\n",
              "      padding: 0 0 0 0;\n",
              "      width: 32px;\n",
              "    }\n",
              "\n",
              "    .colab-df-convert:hover {\n",
              "      background-color: #E2EBFA;\n",
              "      box-shadow: 0px 1px 2px rgba(60, 64, 67, 0.3), 0px 1px 3px 1px rgba(60, 64, 67, 0.15);\n",
              "      fill: #174EA6;\n",
              "    }\n",
              "\n",
              "    [theme=dark] .colab-df-convert {\n",
              "      background-color: #3B4455;\n",
              "      fill: #D2E3FC;\n",
              "    }\n",
              "\n",
              "    [theme=dark] .colab-df-convert:hover {\n",
              "      background-color: #434B5C;\n",
              "      box-shadow: 0px 1px 3px 1px rgba(0, 0, 0, 0.15);\n",
              "      filter: drop-shadow(0px 1px 2px rgba(0, 0, 0, 0.3));\n",
              "      fill: #FFFFFF;\n",
              "    }\n",
              "  </style>\n",
              "\n",
              "      <script>\n",
              "        const buttonEl =\n",
              "          document.querySelector('#df-99845762-ae86-4fe0-a392-e45c4f75709b button.colab-df-convert');\n",
              "        buttonEl.style.display =\n",
              "          google.colab.kernel.accessAllowed ? 'block' : 'none';\n",
              "\n",
              "        async function convertToInteractive(key) {\n",
              "          const element = document.querySelector('#df-99845762-ae86-4fe0-a392-e45c4f75709b');\n",
              "          const dataTable =\n",
              "            await google.colab.kernel.invokeFunction('convertToInteractive',\n",
              "                                                     [key], {});\n",
              "          if (!dataTable) return;\n",
              "\n",
              "          const docLinkHtml = 'Like what you see? Visit the ' +\n",
              "            '<a target=\"_blank\" href=https://colab.research.google.com/notebooks/data_table.ipynb>data table notebook</a>'\n",
              "            + ' to learn more about interactive tables.';\n",
              "          element.innerHTML = '';\n",
              "          dataTable['output_type'] = 'display_data';\n",
              "          await google.colab.output.renderOutput(dataTable, element);\n",
              "          const docLink = document.createElement('div');\n",
              "          docLink.innerHTML = docLinkHtml;\n",
              "          element.appendChild(docLink);\n",
              "        }\n",
              "      </script>\n",
              "    </div>\n",
              "  </div>\n",
              "  "
            ]
          },
          "metadata": {},
          "execution_count": 32
        }
      ]
    },
    {
      "cell_type": "markdown",
      "source": [
        "Solution: remove les nodes isoles:"
      ],
      "metadata": {
        "id": "r5JFbHrVkUVY"
      }
    },
    {
      "cell_type": "code",
      "source": [
        "S_selection[8].remove_nodes_from(list(nx.isolates(S_selection[8])))"
      ],
      "metadata": {
        "id": "CizsHiNhh1Yv"
      },
      "execution_count": null,
      "outputs": []
    },
    {
      "cell_type": "code",
      "source": [
        "draw(S_selection[8])"
      ],
      "metadata": {
        "id": "2_tGSQymkIQU",
        "colab": {
          "base_uri": "https://localhost:8080/",
          "height": 391
        },
        "outputId": "d82fe9b9-eb9f-4944-cceb-859a5a1ddf2b"
      },
      "execution_count": null,
      "outputs": [
        {
          "output_type": "display_data",
          "data": {
            "text/plain": [
              "<Figure size 360x360 with 1 Axes>"
            ],
            "image/png": "[encoded data removed]"
          },
          "metadata": {}
        }
      ]
    },
    {
      "cell_type": "markdown",
      "source": [
        "##Developing"
      ],
      "metadata": {
        "id": "OU6MRF2EkX4z"
      }
    },
    {
      "cell_type": "code",
      "source": [
        "for s in S:\n",
        "  s.remove_nodes_from(list(nx.isolates(s)))\n"
      ],
      "metadata": {
        "id": "DwCpk1tIrtQN"
      },
      "execution_count": null,
      "outputs": []
    },
    {
      "cell_type": "code",
      "source": [
        "S_selection = [s for s in S if (len(s.nodes)) > 3]"
      ],
      "metadata": {
        "id": "2fcB-AXYsNFZ"
      },
      "execution_count": null,
      "outputs": []
    },
    {
      "cell_type": "code",
      "source": [
        "len(S_selection)"
      ],
      "metadata": {
        "id": "GUrUFZIyuQUL",
        "colab": {
          "base_uri": "https://localhost:8080/"
        },
        "outputId": "00eacf96-4e8a-45fa-9981-fc06742746c2"
      },
      "execution_count": null,
      "outputs": [
        {
          "output_type": "execute_result",
          "data": {
            "text/plain": [
              "429"
            ]
          },
          "metadata": {},
          "execution_count": 37
        }
      ]
    },
    {
      "cell_type": "code",
      "source": [
        "draw(S_selection[7])"
      ],
      "metadata": {
        "id": "BnQBkG8vs47C",
        "colab": {
          "base_uri": "https://localhost:8080/",
          "height": 391
        },
        "outputId": "be4c3648-a715-4af6-ec4e-f14357c89b36"
      },
      "execution_count": null,
      "outputs": [
        {
          "output_type": "display_data",
          "data": {
            "text/plain": [
              "<Figure size 360x360 with 1 Axes>"
            ],
            "image/png": "[encoded data removed]"
          },
          "metadata": {}
        }
      ]
    },
    {
      "cell_type": "code",
      "source": [
        "draw_multiple(S_selection,12)\n",
        "plt.savefig('crh-final.png', transparent=True)"
      ],
      "metadata": {
        "colab": {
          "base_uri": "https://localhost:8080/",
          "height": 440
        },
        "id": "iWsYBf-EnirJ",
        "outputId": "c9815289-2c85-4adc-8907-40004e9a4176"
      },
      "execution_count": null,
      "outputs": [
        {
          "output_type": "display_data",
          "data": {
            "text/plain": [
              "<Figure size 1440x720 with 12 Axes>"
            ],
            "image/png": "[encoded data removed]"
          },
          "metadata": {}
        }
      ]
    },
    {
      "cell_type": "code",
      "source": [
        "test = [len(c) for c in sorted(nx.connected_components(g_intersection), key=len, reverse=True)]\n",
        "max(test)"
      ],
      "metadata": {
        "id": "Q1UW-y8wfLa_",
        "colab": {
          "base_uri": "https://localhost:8080/"
        },
        "outputId": "949709bc-caaf-4d1e-864a-a724ee9711eb"
      },
      "execution_count": null,
      "outputs": [
        {
          "output_type": "execute_result",
          "data": {
            "text/plain": [
              "15"
            ]
          },
          "metadata": {},
          "execution_count": 39
        }
      ]
    },
    {
      "cell_type": "code",
      "source": [
        "S_cleaned = [s for s in S if (len(s.nodes))>1]\n",
        "None"
      ],
      "metadata": {
        "id": "y1xmyLTDWNwM"
      },
      "execution_count": null,
      "outputs": []
    },
    {
      "cell_type": "code",
      "source": [
        "def nintersection (graph1,graph2):\n",
        "  g_intersection = nx.intersection(graph1,graph2)\n",
        "  S = [G.subgraph(c).copy() for c in nx.connected_components(g_intersection)]\n",
        "  S = [s for s in S if (len(s.nodes))>1]\n",
        "  for s in S:\n",
        "    s.remove_nodes_from(list(nx.isolates(s)))\n",
        "  return S"
      ],
      "metadata": {
        "id": "wo05__iOusIB"
      },
      "execution_count": null,
      "outputs": []
    },
    {
      "cell_type": "code",
      "source": [
        "def nintersection (graph1,graph2):\n",
        "  g_intersection = nx.intersection(graph1,graph2)\n",
        "  return g_intersection\n",
        "\n",
        "def subgraph_cleaning(G):\n",
        "  S = [G.subgraph(c).copy() for c in nx.connected_components(g_intersection)]\n",
        "  S = [s for s in S if (len(s.nodes))>1]\n",
        "  for s in S:\n",
        "    s.remove_nodes_from(list(nx.isolates(s)))\n",
        "  return S"
      ],
      "metadata": {
        "id": "An86rAcbG43N"
      },
      "execution_count": null,
      "outputs": []
    },
    {
      "cell_type": "code",
      "source": [],
      "metadata": {
        "id": "cirmpKsuHDEw"
      },
      "execution_count": null,
      "outputs": []
    },
    {
      "cell_type": "code",
      "source": [
        "NAME_DF"
      ],
      "metadata": {
        "colab": {
          "base_uri": "https://localhost:8080/"
        },
        "id": "0GoWXf3VFOva",
        "outputId": "0bfbcb45-d474-4b5c-9939-b80eeb171d89"
      },
      "execution_count": null,
      "outputs": [
        {
          "output_type": "execute_result",
          "data": {
            "text/plain": [
              "{'df_GM': 0,\n",
              " 'df_K562': 1,\n",
              " 'df_LNCAP': 2,\n",
              " 'df_NCCIT': 3,\n",
              " 'df_liver': 4,\n",
              " 'df_mESC': 5}"
            ]
          },
          "metadata": {},
          "execution_count": 43
        }
      ]
    },
    {
      "cell_type": "code",
      "source": [
        "G_GM_K562 = nx.intersection(LS_GRAPH[0],LS_GRAPH[1])\n",
        "G_LNCAP_NNCIT = nx.intersection(LS_GRAPH[2],LS_GRAPH[3])\n",
        "G_GM_K562_liver = nx.intersection(G_GM_K562,LS_GRAPH[4])\n",
        "G_TOT= nx.intersection(G_GM_K562_liver,G_LNCAP_NNCIT)\n",
        "\n",
        "S_GM_K562 = subgraph_cleaning(G_GM_K562)\n",
        "S_LNCAP_NNCIT = subgraph_cleaning(G_LNCAP_NNCIT)\n",
        "S_GM_K562_liver = subgraph_cleaning(G_GM_K562_liver)\n",
        "S_TOT= subgraph_cleaning(G_TOT)\n"
      ],
      "metadata": {
        "id": "OEQYfFSHvnuX"
      },
      "execution_count": null,
      "outputs": []
    },
    {
      "cell_type": "code",
      "source": [
        "len_S_GM_K562 = [len(s) for s in S_GM_K562]\n",
        "len_TOT = [len(s) for s in S_TOT]"
      ],
      "metadata": {
        "id": "4fydyyimE3Ci"
      },
      "execution_count": null,
      "outputs": []
    },
    {
      "cell_type": "code",
      "source": [
        "range(min_val,max_val)"
      ],
      "metadata": {
        "colab": {
          "base_uri": "https://localhost:8080/",
          "height": 166
        },
        "id": "FLHL-3IXXBg7",
        "outputId": "eda1cbe7-1efc-4d17-c753-14cd5d9fd7c4"
      },
      "execution_count": null,
      "outputs": [
        {
          "output_type": "error",
          "ename": "NameError",
          "evalue": "ignored",
          "traceback": [
            "\u001b[0;31m---------------------------------------------------------------------------\u001b[0m",
            "\u001b[0;31mNameError\u001b[0m                                 Traceback (most recent call last)",
            "\u001b[0;32m<ipython-input-46-6804d3ba413d>\u001b[0m in \u001b[0;36m<module>\u001b[0;34m()\u001b[0m\n\u001b[0;32m----> 1\u001b[0;31m \u001b[0mrange\u001b[0m\u001b[0;34m(\u001b[0m\u001b[0mmin_val\u001b[0m\u001b[0;34m,\u001b[0m\u001b[0mmax_val\u001b[0m\u001b[0;34m)\u001b[0m\u001b[0;34m\u001b[0m\u001b[0;34m\u001b[0m\u001b[0m\n\u001b[0m",
            "\u001b[0;31mNameError\u001b[0m: name 'min_val' is not defined"
          ]
        }
      ]
    },
    {
      "cell_type": "code",
      "source": [
        "fig, axs = plt.subplots(1, 2, sharey=True, figsize=(20,7))\n",
        "sns.set_style(\"darkgrid\")\n",
        "\n",
        "min_val = min(len_S_GM_K562)\n",
        "max_val = max(len_S_GM_K562)\n",
        "val_width = max_val - min_val\n",
        "n_bins = max_val - min_val\n",
        "bin_width = val_width/n_bins\n",
        "ticks = list(range(min_val,max_val+1))\n",
        "sns.histplot(len_S_GM_K562, bins = n_bins, binrange=(2, 15), discrete = True,ax=axs[0])\n",
        "\n",
        "axs[0].set(\n",
        "    title='Number of CRH in common in cells type K562 and GM',\n",
        "    xticks = ticks)"
      ],
      "metadata": {
        "id": "imwTXTJlFwMQ"
      },
      "execution_count": null,
      "outputs": []
    },
    {
      "cell_type": "code",
      "source": [
        "fig, axs = plt.subplots(1, 1, sharey=True, figsize=(12,4))\n",
        "sns.set_style(\"darkgrid\")\n",
        "\n",
        "min_val = 2\n",
        "max_val = max(len_TOT)\n",
        "val_width = max_val - min_val\n",
        "n_bins = max_val - min_val\n",
        "bin_width = val_width/n_bins\n",
        "ticks = list(range(min_val,max_val+1))\n",
        "graph = sns.histplot(len_TOT, bins = n_bins, binrange=(2, 13), discrete = True)\n",
        "graph.set_xticks(ticks)\n",
        "graph.set_title('CRHs shared by the five cell types, categorize by size')\n",
        "graph.set_xlabel(\"Number of nodes\")\n",
        "#axs[0].set(\n",
        "#    title='Number of CRH in common in all five cell types',\n",
        "#    xticks = ticks)\n",
        "plt.savefig('CRH_graphique.png', transparent=False)"
      ],
      "metadata": {
        "id": "O1mJUVfZZ6ni"
      },
      "execution_count": null,
      "outputs": []
    },
    {
      "cell_type": "code",
      "source": [
        "len(S_TOT)"
      ],
      "metadata": {
        "id": "Ut3gm9mWZrWS"
      },
      "execution_count": null,
      "outputs": []
    },
    {
      "cell_type": "code",
      "source": [
        "sns.histplot(len_TOT)"
      ],
      "metadata": {
        "id": "SE3oIhJJGCnJ"
      },
      "execution_count": null,
      "outputs": []
    },
    {
      "cell_type": "code",
      "source": [
        "test = [s for s in S_GM_K562 if len(s)>8]\n",
        "test2 = [s for s in S_TOT if len(s)>12]"
      ],
      "metadata": {
        "id": "5GA6gKErGWtl"
      },
      "execution_count": null,
      "outputs": []
    },
    {
      "cell_type": "code",
      "source": [
        "test2"
      ],
      "metadata": {
        "id": "jqS-ZYOQOd99"
      },
      "execution_count": null,
      "outputs": []
    },
    {
      "cell_type": "code",
      "source": [
        "test2 = [s for s in S_TOT if len(s)==13]"
      ],
      "metadata": {
        "id": "93k2TNxiGtCh"
      },
      "execution_count": null,
      "outputs": []
    },
    {
      "cell_type": "code",
      "source": [
        "draw(test2[0], True)\n",
        "plt.savefig('demo.png', transparent=True)"
      ],
      "metadata": {
        "id": "4TjifZCmJYWG"
      },
      "execution_count": null,
      "outputs": []
    },
    {
      "cell_type": "code",
      "source": [
        "#G = nx.grid_2d_graph(4, 4)  # 4x4 grid\n",
        "\n",
        "pos = nx.spring_layout(test2, k = 0.8,iterations=100)\n",
        "\n",
        "# Create a 2x2 subplot\n",
        "fig, all_axes = plt.subplots(2, 2)\n",
        "ax = all_axes.flat\n",
        "\n",
        "nx.draw(test2[0], pos, ax=ax[0], font_size=8)\n",
        "nx.draw(test2[1], pos, ax=ax[1], node_size=0, with_labels=False)\n",
        "nx.draw(\n",
        "    test2[1],\n",
        "    pos,\n",
        "    ax=ax[2]\n",
        ")\n",
        "nx.draw(\n",
        "    test2[3],\n",
        "    pos,\n",
        "    ax=ax[3]\n",
        ")\n",
        "\n",
        "# Set margins for the axes so that nodes aren't clipped\n",
        "for a in ax:\n",
        "    a.margins(0.10)\n",
        "fig.tight_layout()\n",
        "plt.show()"
      ],
      "metadata": {
        "id": "bCIty4T2wOuZ"
      },
      "execution_count": null,
      "outputs": []
    },
    {
      "cell_type": "code",
      "source": [],
      "metadata": {
        "id": "0h27t7bVOwYW"
      },
      "execution_count": null,
      "outputs": []
    }
  ]
}